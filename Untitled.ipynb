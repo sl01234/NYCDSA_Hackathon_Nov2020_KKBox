{
 "cells": [
  {
   "cell_type": "code",
   "execution_count": 1,
   "metadata": {},
   "outputs": [],
   "source": [
    "import numpy as np\n",
    "import pandas as pd\n",
    "import matplotlib.pyplot as plt\n",
    "%matplotlib inline\n",
    "plt.style.use('ggplot')"
   ]
  },
  {
   "cell_type": "code",
   "execution_count": 2,
   "metadata": {},
   "outputs": [],
   "source": [
    "churn_df = pd.read_csv('trunc_churn.csv')\n",
    "members_df = pd.read_csv('trunc_members.csv')\n",
    "transact_df = pd.read_csv('trunc_transaction.csv')\n",
    "users_df = pd.read_csv('trunc_users.csv')"
   ]
  },
  {
   "cell_type": "code",
   "execution_count": 21,
   "metadata": {},
   "outputs": [
    {
     "data": {
      "text/html": [
       "<div>\n",
       "<style scoped>\n",
       "    .dataframe tbody tr th:only-of-type {\n",
       "        vertical-align: middle;\n",
       "    }\n",
       "\n",
       "    .dataframe tbody tr th {\n",
       "        vertical-align: top;\n",
       "    }\n",
       "\n",
       "    .dataframe thead th {\n",
       "        text-align: right;\n",
       "    }\n",
       "</style>\n",
       "<table border=\"1\" class=\"dataframe\">\n",
       "  <thead>\n",
       "    <tr style=\"text-align: right;\">\n",
       "      <th></th>\n",
       "      <th>msno</th>\n",
       "      <th>is_churn</th>\n",
       "    </tr>\n",
       "  </thead>\n",
       "  <tbody>\n",
       "    <tr>\n",
       "      <th>9583</th>\n",
       "      <td>PhFsFtcg6BLN/cAF8MuCD2GqREWltEzxRuvDLYTOD5A=</td>\n",
       "      <td>0</td>\n",
       "    </tr>\n",
       "    <tr>\n",
       "      <th>13509</th>\n",
       "      <td>SrjG+2pnjjiAeQcY8Q1t/sT7FEEHadtnFI2iNvPozUA=</td>\n",
       "      <td>0</td>\n",
       "    </tr>\n",
       "    <tr>\n",
       "      <th>12815</th>\n",
       "      <td>U5AlbfAkNk7Nc1lpQVo3Rp23I1yxFnB+zfEihHAV5uo=</td>\n",
       "      <td>0</td>\n",
       "    </tr>\n",
       "    <tr>\n",
       "      <th>12298</th>\n",
       "      <td>Vw/xokuPRnu1nbwm+IlgTD0MyTHLh/I1UNw2UJr+JbU=</td>\n",
       "      <td>0</td>\n",
       "    </tr>\n",
       "    <tr>\n",
       "      <th>8328</th>\n",
       "      <td>4PxVxxN8XBOZ+sH0M0YfSvYlOHGGK3oyDrrBl1L1Ptw=</td>\n",
       "      <td>0</td>\n",
       "    </tr>\n",
       "    <tr>\n",
       "      <th>12419</th>\n",
       "      <td>2WUHcN59A9CuH972BYiE3rZbH9QAKxEN8nlyqulQi9c=</td>\n",
       "      <td>0</td>\n",
       "    </tr>\n",
       "    <tr>\n",
       "      <th>1504</th>\n",
       "      <td>vnUaROHG698c9yJAhg1AUxNyzRdEpOkDcdyg7imHu2c=</td>\n",
       "      <td>0</td>\n",
       "    </tr>\n",
       "    <tr>\n",
       "      <th>10751</th>\n",
       "      <td>FBKqi29IEvWB7Gyzf/pBW0WNvBj94QfzGu/VZVz01TA=</td>\n",
       "      <td>0</td>\n",
       "    </tr>\n",
       "    <tr>\n",
       "      <th>10740</th>\n",
       "      <td>MilJM009bSDNKkxk9EXfYQMFx0/V5Wt3jD3P2his4qU=</td>\n",
       "      <td>0</td>\n",
       "    </tr>\n",
       "    <tr>\n",
       "      <th>14768</th>\n",
       "      <td>gf++BcSLfrLjcmViyDjjuArtbS2pudg5/W7NpB2RcpQ=</td>\n",
       "      <td>0</td>\n",
       "    </tr>\n",
       "    <tr>\n",
       "      <th>12084</th>\n",
       "      <td>dyKQ7hn+1BiRd0GmOE0mgA1ok9gdWo8W327NcmkMLTs=</td>\n",
       "      <td>0</td>\n",
       "    </tr>\n",
       "    <tr>\n",
       "      <th>3711</th>\n",
       "      <td>9C7QB1CDiTUhZIeiB4zivK6uroQmuzDgikEDOyGzHfw=</td>\n",
       "      <td>0</td>\n",
       "    </tr>\n",
       "    <tr>\n",
       "      <th>18452</th>\n",
       "      <td>WFc0NitI7SEY5QTSl7w9UuqgL8W5sIRUq5B4ZePBkqs=</td>\n",
       "      <td>0</td>\n",
       "    </tr>\n",
       "    <tr>\n",
       "      <th>7334</th>\n",
       "      <td>ei7brHIAw36a5cKIVp+BJ/0RQqnZLD1VMjnS/3Hqkos=</td>\n",
       "      <td>0</td>\n",
       "    </tr>\n",
       "    <tr>\n",
       "      <th>486</th>\n",
       "      <td>eO959ujQ48dxLdCcqmOQfMrk2rfubCHRdnslzEQaOmA=</td>\n",
       "      <td>0</td>\n",
       "    </tr>\n",
       "  </tbody>\n",
       "</table>\n",
       "</div>"
      ],
      "text/plain": [
       "                                               msno  is_churn\n",
       "9583   PhFsFtcg6BLN/cAF8MuCD2GqREWltEzxRuvDLYTOD5A=         0\n",
       "13509  SrjG+2pnjjiAeQcY8Q1t/sT7FEEHadtnFI2iNvPozUA=         0\n",
       "12815  U5AlbfAkNk7Nc1lpQVo3Rp23I1yxFnB+zfEihHAV5uo=         0\n",
       "12298  Vw/xokuPRnu1nbwm+IlgTD0MyTHLh/I1UNw2UJr+JbU=         0\n",
       "8328   4PxVxxN8XBOZ+sH0M0YfSvYlOHGGK3oyDrrBl1L1Ptw=         0\n",
       "12419  2WUHcN59A9CuH972BYiE3rZbH9QAKxEN8nlyqulQi9c=         0\n",
       "1504   vnUaROHG698c9yJAhg1AUxNyzRdEpOkDcdyg7imHu2c=         0\n",
       "10751  FBKqi29IEvWB7Gyzf/pBW0WNvBj94QfzGu/VZVz01TA=         0\n",
       "10740  MilJM009bSDNKkxk9EXfYQMFx0/V5Wt3jD3P2his4qU=         0\n",
       "14768  gf++BcSLfrLjcmViyDjjuArtbS2pudg5/W7NpB2RcpQ=         0\n",
       "12084  dyKQ7hn+1BiRd0GmOE0mgA1ok9gdWo8W327NcmkMLTs=         0\n",
       "3711   9C7QB1CDiTUhZIeiB4zivK6uroQmuzDgikEDOyGzHfw=         0\n",
       "18452  WFc0NitI7SEY5QTSl7w9UuqgL8W5sIRUq5B4ZePBkqs=         0\n",
       "7334   ei7brHIAw36a5cKIVp+BJ/0RQqnZLD1VMjnS/3Hqkos=         0\n",
       "486    eO959ujQ48dxLdCcqmOQfMrk2rfubCHRdnslzEQaOmA=         0"
      ]
     },
     "execution_count": 21,
     "metadata": {},
     "output_type": "execute_result"
    }
   ],
   "source": [
    "churn_df.sample(15)"
   ]
  },
  {
   "cell_type": "code",
   "execution_count": 22,
   "metadata": {},
   "outputs": [
    {
     "data": {
      "text/html": [
       "<div>\n",
       "<style scoped>\n",
       "    .dataframe tbody tr th:only-of-type {\n",
       "        vertical-align: middle;\n",
       "    }\n",
       "\n",
       "    .dataframe tbody tr th {\n",
       "        vertical-align: top;\n",
       "    }\n",
       "\n",
       "    .dataframe thead th {\n",
       "        text-align: right;\n",
       "    }\n",
       "</style>\n",
       "<table border=\"1\" class=\"dataframe\">\n",
       "  <thead>\n",
       "    <tr style=\"text-align: right;\">\n",
       "      <th></th>\n",
       "      <th>msno</th>\n",
       "      <th>city</th>\n",
       "      <th>bd</th>\n",
       "      <th>gender</th>\n",
       "      <th>registered_via</th>\n",
       "      <th>registration_init_time</th>\n",
       "    </tr>\n",
       "  </thead>\n",
       "  <tbody>\n",
       "    <tr>\n",
       "      <th>7092</th>\n",
       "      <td>r+JOBXaRVeKNdMeYgJ17rxPNFLexYoa7OTl3NGfTKAM=</td>\n",
       "      <td>18</td>\n",
       "      <td>23</td>\n",
       "      <td>male</td>\n",
       "      <td>9</td>\n",
       "      <td>20110816</td>\n",
       "    </tr>\n",
       "    <tr>\n",
       "      <th>4099</th>\n",
       "      <td>YLh01btF92djhL2PHM8eSk2nD2X3ObKPfsaaMat8d1Y=</td>\n",
       "      <td>1</td>\n",
       "      <td>0</td>\n",
       "      <td>NaN</td>\n",
       "      <td>7</td>\n",
       "      <td>20161219</td>\n",
       "    </tr>\n",
       "    <tr>\n",
       "      <th>6481</th>\n",
       "      <td>DEDkV+vriSk+ejKTq/Z0cyEB8RMoL1E6KGjuBR+TS9M=</td>\n",
       "      <td>14</td>\n",
       "      <td>28</td>\n",
       "      <td>male</td>\n",
       "      <td>3</td>\n",
       "      <td>20120822</td>\n",
       "    </tr>\n",
       "    <tr>\n",
       "      <th>11094</th>\n",
       "      <td>jHcyQhWYVIKcMl7+k1zH49l3haPmxfiYs+rg43S7vAc=</td>\n",
       "      <td>4</td>\n",
       "      <td>29</td>\n",
       "      <td>male</td>\n",
       "      <td>7</td>\n",
       "      <td>20150830</td>\n",
       "    </tr>\n",
       "    <tr>\n",
       "      <th>1869</th>\n",
       "      <td>KkTFpAd3wd6dbwgUt3Qud+WOggyWY03ouZ6MmrB52iw=</td>\n",
       "      <td>1</td>\n",
       "      <td>0</td>\n",
       "      <td>NaN</td>\n",
       "      <td>7</td>\n",
       "      <td>20151123</td>\n",
       "    </tr>\n",
       "    <tr>\n",
       "      <th>2267</th>\n",
       "      <td>wHgYJ68eQ0V3xbUa9rTSe+9RRb5ClwAgRdz7soyVRgg=</td>\n",
       "      <td>3</td>\n",
       "      <td>0</td>\n",
       "      <td>NaN</td>\n",
       "      <td>7</td>\n",
       "      <td>20140119</td>\n",
       "    </tr>\n",
       "    <tr>\n",
       "      <th>1588</th>\n",
       "      <td>lg5LLdBX4BnHK9Ii1n+RcC/OLJjWj+dVVuT4IYvg8Pk=</td>\n",
       "      <td>15</td>\n",
       "      <td>0</td>\n",
       "      <td>NaN</td>\n",
       "      <td>3</td>\n",
       "      <td>20121122</td>\n",
       "    </tr>\n",
       "    <tr>\n",
       "      <th>3860</th>\n",
       "      <td>u9oStvZJeNrzJRXyHz5aq4pKgfEkBVZNFZCzkfd/BeE=</td>\n",
       "      <td>13</td>\n",
       "      <td>37</td>\n",
       "      <td>female</td>\n",
       "      <td>9</td>\n",
       "      <td>20120605</td>\n",
       "    </tr>\n",
       "    <tr>\n",
       "      <th>16576</th>\n",
       "      <td>spcdZvPT6tdUK0CyFmFlye4WoHilCN8Nbe22Q0ivoHw=</td>\n",
       "      <td>1</td>\n",
       "      <td>0</td>\n",
       "      <td>NaN</td>\n",
       "      <td>7</td>\n",
       "      <td>20140918</td>\n",
       "    </tr>\n",
       "    <tr>\n",
       "      <th>8078</th>\n",
       "      <td>svBdGi7162PnYwhZp97OXPcPiFe4iZn1V8CMkRIySNE=</td>\n",
       "      <td>1</td>\n",
       "      <td>0</td>\n",
       "      <td>NaN</td>\n",
       "      <td>7</td>\n",
       "      <td>20130625</td>\n",
       "    </tr>\n",
       "    <tr>\n",
       "      <th>10253</th>\n",
       "      <td>qqkSbB7gIpBGvonLV5HPsV3OzJh56PI/Ocvt96dXca8=</td>\n",
       "      <td>12</td>\n",
       "      <td>0</td>\n",
       "      <td>NaN</td>\n",
       "      <td>9</td>\n",
       "      <td>20110121</td>\n",
       "    </tr>\n",
       "    <tr>\n",
       "      <th>3527</th>\n",
       "      <td>G7fLMgsxeSvZPFhtZeHNkEu9JPfXMZXiiP7SoWP52gg=</td>\n",
       "      <td>5</td>\n",
       "      <td>26</td>\n",
       "      <td>male</td>\n",
       "      <td>9</td>\n",
       "      <td>20110325</td>\n",
       "    </tr>\n",
       "    <tr>\n",
       "      <th>942</th>\n",
       "      <td>aNvxCHSBr+ZucNKZ2dsHhcHbsfUixsO2lsFiVm/JGEs=</td>\n",
       "      <td>15</td>\n",
       "      <td>33</td>\n",
       "      <td>male</td>\n",
       "      <td>9</td>\n",
       "      <td>20090721</td>\n",
       "    </tr>\n",
       "    <tr>\n",
       "      <th>14097</th>\n",
       "      <td>qh8rG9o+l3KBBatqaocqdGTWA1v2xzeowiqRlRLsvjU=</td>\n",
       "      <td>1</td>\n",
       "      <td>0</td>\n",
       "      <td>NaN</td>\n",
       "      <td>7</td>\n",
       "      <td>20110528</td>\n",
       "    </tr>\n",
       "    <tr>\n",
       "      <th>10595</th>\n",
       "      <td>gREoc4cpC/QC0UCtJGpizzSlVe48PKCL5I8EGqNOzUE=</td>\n",
       "      <td>15</td>\n",
       "      <td>17</td>\n",
       "      <td>male</td>\n",
       "      <td>7</td>\n",
       "      <td>20161210</td>\n",
       "    </tr>\n",
       "  </tbody>\n",
       "</table>\n",
       "</div>"
      ],
      "text/plain": [
       "                                               msno  city  bd  gender  \\\n",
       "7092   r+JOBXaRVeKNdMeYgJ17rxPNFLexYoa7OTl3NGfTKAM=    18  23    male   \n",
       "4099   YLh01btF92djhL2PHM8eSk2nD2X3ObKPfsaaMat8d1Y=     1   0     NaN   \n",
       "6481   DEDkV+vriSk+ejKTq/Z0cyEB8RMoL1E6KGjuBR+TS9M=    14  28    male   \n",
       "11094  jHcyQhWYVIKcMl7+k1zH49l3haPmxfiYs+rg43S7vAc=     4  29    male   \n",
       "1869   KkTFpAd3wd6dbwgUt3Qud+WOggyWY03ouZ6MmrB52iw=     1   0     NaN   \n",
       "2267   wHgYJ68eQ0V3xbUa9rTSe+9RRb5ClwAgRdz7soyVRgg=     3   0     NaN   \n",
       "1588   lg5LLdBX4BnHK9Ii1n+RcC/OLJjWj+dVVuT4IYvg8Pk=    15   0     NaN   \n",
       "3860   u9oStvZJeNrzJRXyHz5aq4pKgfEkBVZNFZCzkfd/BeE=    13  37  female   \n",
       "16576  spcdZvPT6tdUK0CyFmFlye4WoHilCN8Nbe22Q0ivoHw=     1   0     NaN   \n",
       "8078   svBdGi7162PnYwhZp97OXPcPiFe4iZn1V8CMkRIySNE=     1   0     NaN   \n",
       "10253  qqkSbB7gIpBGvonLV5HPsV3OzJh56PI/Ocvt96dXca8=    12   0     NaN   \n",
       "3527   G7fLMgsxeSvZPFhtZeHNkEu9JPfXMZXiiP7SoWP52gg=     5  26    male   \n",
       "942    aNvxCHSBr+ZucNKZ2dsHhcHbsfUixsO2lsFiVm/JGEs=    15  33    male   \n",
       "14097  qh8rG9o+l3KBBatqaocqdGTWA1v2xzeowiqRlRLsvjU=     1   0     NaN   \n",
       "10595  gREoc4cpC/QC0UCtJGpizzSlVe48PKCL5I8EGqNOzUE=    15  17    male   \n",
       "\n",
       "       registered_via  registration_init_time  \n",
       "7092                9                20110816  \n",
       "4099                7                20161219  \n",
       "6481                3                20120822  \n",
       "11094               7                20150830  \n",
       "1869                7                20151123  \n",
       "2267                7                20140119  \n",
       "1588                3                20121122  \n",
       "3860                9                20120605  \n",
       "16576               7                20140918  \n",
       "8078                7                20130625  \n",
       "10253               9                20110121  \n",
       "3527                9                20110325  \n",
       "942                 9                20090721  \n",
       "14097               7                20110528  \n",
       "10595               7                20161210  "
      ]
     },
     "execution_count": 22,
     "metadata": {},
     "output_type": "execute_result"
    }
   ],
   "source": [
    "members_df.sample(15)"
   ]
  },
  {
   "cell_type": "code",
   "execution_count": 23,
   "metadata": {},
   "outputs": [
    {
     "data": {
      "text/html": [
       "<div>\n",
       "<style scoped>\n",
       "    .dataframe tbody tr th:only-of-type {\n",
       "        vertical-align: middle;\n",
       "    }\n",
       "\n",
       "    .dataframe tbody tr th {\n",
       "        vertical-align: top;\n",
       "    }\n",
       "\n",
       "    .dataframe thead th {\n",
       "        text-align: right;\n",
       "    }\n",
       "</style>\n",
       "<table border=\"1\" class=\"dataframe\">\n",
       "  <thead>\n",
       "    <tr style=\"text-align: right;\">\n",
       "      <th></th>\n",
       "      <th>msno</th>\n",
       "      <th>payment_method_id</th>\n",
       "      <th>payment_plan_days</th>\n",
       "      <th>plan_list_price</th>\n",
       "      <th>actual_amount_paid</th>\n",
       "      <th>is_auto_renew</th>\n",
       "      <th>transaction_date</th>\n",
       "      <th>membership_expire_date</th>\n",
       "      <th>is_cancel</th>\n",
       "    </tr>\n",
       "  </thead>\n",
       "  <tbody>\n",
       "    <tr>\n",
       "      <th>7204</th>\n",
       "      <td>dP1udm2Kg5WITY564ShY+jG2BS9eFUD2ImvXnegyqkI=</td>\n",
       "      <td>36</td>\n",
       "      <td>30</td>\n",
       "      <td>180</td>\n",
       "      <td>180</td>\n",
       "      <td>1</td>\n",
       "      <td>20170304</td>\n",
       "      <td>20170403</td>\n",
       "      <td>0</td>\n",
       "    </tr>\n",
       "    <tr>\n",
       "      <th>19732</th>\n",
       "      <td>zu1suAHfeSI7Bjorfs2d0K15l7l19kp++5pbAx6un3w=</td>\n",
       "      <td>41</td>\n",
       "      <td>30</td>\n",
       "      <td>99</td>\n",
       "      <td>99</td>\n",
       "      <td>1</td>\n",
       "      <td>20170309</td>\n",
       "      <td>20170409</td>\n",
       "      <td>0</td>\n",
       "    </tr>\n",
       "    <tr>\n",
       "      <th>2474</th>\n",
       "      <td>XmGnqDL2v70doJwFyQQQ/4jbpmpg0MADv4XWnnEVSRo=</td>\n",
       "      <td>41</td>\n",
       "      <td>30</td>\n",
       "      <td>149</td>\n",
       "      <td>149</td>\n",
       "      <td>1</td>\n",
       "      <td>20170325</td>\n",
       "      <td>20170425</td>\n",
       "      <td>0</td>\n",
       "    </tr>\n",
       "    <tr>\n",
       "      <th>3452</th>\n",
       "      <td>yYfxfEfr4hy8fy4PnfeOMcUVI5LKy+uTgSE0bQi6t74=</td>\n",
       "      <td>41</td>\n",
       "      <td>30</td>\n",
       "      <td>129</td>\n",
       "      <td>129</td>\n",
       "      <td>1</td>\n",
       "      <td>20170310</td>\n",
       "      <td>20170410</td>\n",
       "      <td>0</td>\n",
       "    </tr>\n",
       "    <tr>\n",
       "      <th>19417</th>\n",
       "      <td>W+PZV8R6jVISlzPSr5N46rMw/uEnIHracJIr6IOmcaY=</td>\n",
       "      <td>41</td>\n",
       "      <td>30</td>\n",
       "      <td>99</td>\n",
       "      <td>99</td>\n",
       "      <td>1</td>\n",
       "      <td>20170331</td>\n",
       "      <td>20170430</td>\n",
       "      <td>0</td>\n",
       "    </tr>\n",
       "    <tr>\n",
       "      <th>22136</th>\n",
       "      <td>90r1kMEP0ig0gwXZB3IQaOdNgG8/yl/InN58oqWZgmI=</td>\n",
       "      <td>41</td>\n",
       "      <td>30</td>\n",
       "      <td>99</td>\n",
       "      <td>99</td>\n",
       "      <td>1</td>\n",
       "      <td>20170318</td>\n",
       "      <td>20170418</td>\n",
       "      <td>0</td>\n",
       "    </tr>\n",
       "    <tr>\n",
       "      <th>6253</th>\n",
       "      <td>WwOWneA6MjYS679YRKxB/S8TKhqoX5rd1l56wPjFKXI=</td>\n",
       "      <td>41</td>\n",
       "      <td>30</td>\n",
       "      <td>99</td>\n",
       "      <td>99</td>\n",
       "      <td>1</td>\n",
       "      <td>20170327</td>\n",
       "      <td>20170427</td>\n",
       "      <td>0</td>\n",
       "    </tr>\n",
       "    <tr>\n",
       "      <th>18716</th>\n",
       "      <td>YlP4b5E9NsK7dsTVaJsau3HguCx1Qj3u81V9ATlnzfE=</td>\n",
       "      <td>34</td>\n",
       "      <td>30</td>\n",
       "      <td>149</td>\n",
       "      <td>149</td>\n",
       "      <td>1</td>\n",
       "      <td>20170331</td>\n",
       "      <td>20170430</td>\n",
       "      <td>0</td>\n",
       "    </tr>\n",
       "    <tr>\n",
       "      <th>2756</th>\n",
       "      <td>/tB4xE7WJHjrBgUKQPT0HhkHcYL0oQMejAbad42upmk=</td>\n",
       "      <td>40</td>\n",
       "      <td>30</td>\n",
       "      <td>149</td>\n",
       "      <td>149</td>\n",
       "      <td>1</td>\n",
       "      <td>20170310</td>\n",
       "      <td>20170409</td>\n",
       "      <td>0</td>\n",
       "    </tr>\n",
       "    <tr>\n",
       "      <th>22984</th>\n",
       "      <td>YtIaFv+hGtzkMNazA8s8OYlSvAPBtPGky64L3Z+vWl4=</td>\n",
       "      <td>41</td>\n",
       "      <td>30</td>\n",
       "      <td>99</td>\n",
       "      <td>99</td>\n",
       "      <td>1</td>\n",
       "      <td>20170303</td>\n",
       "      <td>20170403</td>\n",
       "      <td>0</td>\n",
       "    </tr>\n",
       "    <tr>\n",
       "      <th>7951</th>\n",
       "      <td>r+d2Y9EkEPA6hLkYLl2vJzWUv7zmut6sViziyuAlzs4=</td>\n",
       "      <td>41</td>\n",
       "      <td>30</td>\n",
       "      <td>99</td>\n",
       "      <td>99</td>\n",
       "      <td>1</td>\n",
       "      <td>20170311</td>\n",
       "      <td>20170412</td>\n",
       "      <td>0</td>\n",
       "    </tr>\n",
       "    <tr>\n",
       "      <th>8922</th>\n",
       "      <td>r09QMldZDuohdYuPjik8eTj3oqVsFENk7DLHXH3xQEw=</td>\n",
       "      <td>41</td>\n",
       "      <td>30</td>\n",
       "      <td>99</td>\n",
       "      <td>99</td>\n",
       "      <td>1</td>\n",
       "      <td>20170303</td>\n",
       "      <td>20170403</td>\n",
       "      <td>0</td>\n",
       "    </tr>\n",
       "    <tr>\n",
       "      <th>15870</th>\n",
       "      <td>rXmBHSyqtOjws0UVyaC6hKdfEGxhlKh4zKylq02Ivt4=</td>\n",
       "      <td>37</td>\n",
       "      <td>30</td>\n",
       "      <td>149</td>\n",
       "      <td>149</td>\n",
       "      <td>1</td>\n",
       "      <td>20170320</td>\n",
       "      <td>20170419</td>\n",
       "      <td>0</td>\n",
       "    </tr>\n",
       "    <tr>\n",
       "      <th>12142</th>\n",
       "      <td>CyCMmF3drGfOn5PPj+GXsGn6mN8KUL7ahhoYs4cvLqk=</td>\n",
       "      <td>39</td>\n",
       "      <td>30</td>\n",
       "      <td>149</td>\n",
       "      <td>149</td>\n",
       "      <td>1</td>\n",
       "      <td>20170331</td>\n",
       "      <td>20170525</td>\n",
       "      <td>0</td>\n",
       "    </tr>\n",
       "    <tr>\n",
       "      <th>11204</th>\n",
       "      <td>yWVseOqfN7T9ZmKatyDw3Ot4Nwgl7tilWWCv2puSYr4=</td>\n",
       "      <td>41</td>\n",
       "      <td>30</td>\n",
       "      <td>99</td>\n",
       "      <td>99</td>\n",
       "      <td>1</td>\n",
       "      <td>20170322</td>\n",
       "      <td>20170422</td>\n",
       "      <td>0</td>\n",
       "    </tr>\n",
       "  </tbody>\n",
       "</table>\n",
       "</div>"
      ],
      "text/plain": [
       "                                               msno  payment_method_id  \\\n",
       "7204   dP1udm2Kg5WITY564ShY+jG2BS9eFUD2ImvXnegyqkI=                 36   \n",
       "19732  zu1suAHfeSI7Bjorfs2d0K15l7l19kp++5pbAx6un3w=                 41   \n",
       "2474   XmGnqDL2v70doJwFyQQQ/4jbpmpg0MADv4XWnnEVSRo=                 41   \n",
       "3452   yYfxfEfr4hy8fy4PnfeOMcUVI5LKy+uTgSE0bQi6t74=                 41   \n",
       "19417  W+PZV8R6jVISlzPSr5N46rMw/uEnIHracJIr6IOmcaY=                 41   \n",
       "22136  90r1kMEP0ig0gwXZB3IQaOdNgG8/yl/InN58oqWZgmI=                 41   \n",
       "6253   WwOWneA6MjYS679YRKxB/S8TKhqoX5rd1l56wPjFKXI=                 41   \n",
       "18716  YlP4b5E9NsK7dsTVaJsau3HguCx1Qj3u81V9ATlnzfE=                 34   \n",
       "2756   /tB4xE7WJHjrBgUKQPT0HhkHcYL0oQMejAbad42upmk=                 40   \n",
       "22984  YtIaFv+hGtzkMNazA8s8OYlSvAPBtPGky64L3Z+vWl4=                 41   \n",
       "7951   r+d2Y9EkEPA6hLkYLl2vJzWUv7zmut6sViziyuAlzs4=                 41   \n",
       "8922   r09QMldZDuohdYuPjik8eTj3oqVsFENk7DLHXH3xQEw=                 41   \n",
       "15870  rXmBHSyqtOjws0UVyaC6hKdfEGxhlKh4zKylq02Ivt4=                 37   \n",
       "12142  CyCMmF3drGfOn5PPj+GXsGn6mN8KUL7ahhoYs4cvLqk=                 39   \n",
       "11204  yWVseOqfN7T9ZmKatyDw3Ot4Nwgl7tilWWCv2puSYr4=                 41   \n",
       "\n",
       "       payment_plan_days  plan_list_price  actual_amount_paid  is_auto_renew  \\\n",
       "7204                  30              180                 180              1   \n",
       "19732                 30               99                  99              1   \n",
       "2474                  30              149                 149              1   \n",
       "3452                  30              129                 129              1   \n",
       "19417                 30               99                  99              1   \n",
       "22136                 30               99                  99              1   \n",
       "6253                  30               99                  99              1   \n",
       "18716                 30              149                 149              1   \n",
       "2756                  30              149                 149              1   \n",
       "22984                 30               99                  99              1   \n",
       "7951                  30               99                  99              1   \n",
       "8922                  30               99                  99              1   \n",
       "15870                 30              149                 149              1   \n",
       "12142                 30              149                 149              1   \n",
       "11204                 30               99                  99              1   \n",
       "\n",
       "       transaction_date  membership_expire_date  is_cancel  \n",
       "7204           20170304                20170403          0  \n",
       "19732          20170309                20170409          0  \n",
       "2474           20170325                20170425          0  \n",
       "3452           20170310                20170410          0  \n",
       "19417          20170331                20170430          0  \n",
       "22136          20170318                20170418          0  \n",
       "6253           20170327                20170427          0  \n",
       "18716          20170331                20170430          0  \n",
       "2756           20170310                20170409          0  \n",
       "22984          20170303                20170403          0  \n",
       "7951           20170311                20170412          0  \n",
       "8922           20170303                20170403          0  \n",
       "15870          20170320                20170419          0  \n",
       "12142          20170331                20170525          0  \n",
       "11204          20170322                20170422          0  "
      ]
     },
     "execution_count": 23,
     "metadata": {},
     "output_type": "execute_result"
    }
   ],
   "source": [
    "transact_df.sample(15)"
   ]
  },
  {
   "cell_type": "code",
   "execution_count": 24,
   "metadata": {},
   "outputs": [
    {
     "data": {
      "text/html": [
       "<div>\n",
       "<style scoped>\n",
       "    .dataframe tbody tr th:only-of-type {\n",
       "        vertical-align: middle;\n",
       "    }\n",
       "\n",
       "    .dataframe tbody tr th {\n",
       "        vertical-align: top;\n",
       "    }\n",
       "\n",
       "    .dataframe thead th {\n",
       "        text-align: right;\n",
       "    }\n",
       "</style>\n",
       "<table border=\"1\" class=\"dataframe\">\n",
       "  <thead>\n",
       "    <tr style=\"text-align: right;\">\n",
       "      <th></th>\n",
       "      <th>msno</th>\n",
       "      <th>date</th>\n",
       "      <th>num_25</th>\n",
       "      <th>num_50</th>\n",
       "      <th>num_75</th>\n",
       "      <th>num_985</th>\n",
       "      <th>num_100</th>\n",
       "      <th>num_unq</th>\n",
       "      <th>total_secs</th>\n",
       "    </tr>\n",
       "  </thead>\n",
       "  <tbody>\n",
       "    <tr>\n",
       "      <th>33033</th>\n",
       "      <td>PMFcXigf3JMdst4NJjklEW2ibVYfRjCBwjyZMZeLYYU=</td>\n",
       "      <td>20170307</td>\n",
       "      <td>58</td>\n",
       "      <td>6</td>\n",
       "      <td>7</td>\n",
       "      <td>1</td>\n",
       "      <td>68</td>\n",
       "      <td>94</td>\n",
       "      <td>18441.966</td>\n",
       "    </tr>\n",
       "    <tr>\n",
       "      <th>35745</th>\n",
       "      <td>GJ/AprRomU5luU1WCztUzc3RwF3kae7EQRRIEgMfZxs=</td>\n",
       "      <td>20170311</td>\n",
       "      <td>2</td>\n",
       "      <td>0</td>\n",
       "      <td>0</td>\n",
       "      <td>0</td>\n",
       "      <td>3</td>\n",
       "      <td>4</td>\n",
       "      <td>700.213</td>\n",
       "    </tr>\n",
       "    <tr>\n",
       "      <th>156682</th>\n",
       "      <td>elM1ZJeH0HIIFa+TCz8dA++vKpLB8pGjEY5fW41W6MY=</td>\n",
       "      <td>20170318</td>\n",
       "      <td>1</td>\n",
       "      <td>6</td>\n",
       "      <td>4</td>\n",
       "      <td>1</td>\n",
       "      <td>3</td>\n",
       "      <td>15</td>\n",
       "      <td>2283.838</td>\n",
       "    </tr>\n",
       "    <tr>\n",
       "      <th>186602</th>\n",
       "      <td>Gg8MLJePkZ7+UG7qtz+reC6h7SPkCL4tyKxl1BsvGeg=</td>\n",
       "      <td>20170306</td>\n",
       "      <td>0</td>\n",
       "      <td>1</td>\n",
       "      <td>0</td>\n",
       "      <td>0</td>\n",
       "      <td>14</td>\n",
       "      <td>1</td>\n",
       "      <td>3325.977</td>\n",
       "    </tr>\n",
       "    <tr>\n",
       "      <th>189990</th>\n",
       "      <td>JyO02ORpGsToER40/Xa69E4OUGCEurHuHd3P/MLiXI8=</td>\n",
       "      <td>20170321</td>\n",
       "      <td>1</td>\n",
       "      <td>0</td>\n",
       "      <td>1</td>\n",
       "      <td>2</td>\n",
       "      <td>3</td>\n",
       "      <td>4</td>\n",
       "      <td>1571.994</td>\n",
       "    </tr>\n",
       "    <tr>\n",
       "      <th>193155</th>\n",
       "      <td>vIvQ8AX9eh6+s4qmRotwuqHw+QdjRRfhQQqfRiem4P4=</td>\n",
       "      <td>20170327</td>\n",
       "      <td>2</td>\n",
       "      <td>0</td>\n",
       "      <td>0</td>\n",
       "      <td>0</td>\n",
       "      <td>0</td>\n",
       "      <td>2</td>\n",
       "      <td>18.372</td>\n",
       "    </tr>\n",
       "    <tr>\n",
       "      <th>84727</th>\n",
       "      <td>xXEO2bKEIxiK7WzPRbGe3XVr+FDDzeBpSZ3YaXZdZks=</td>\n",
       "      <td>20170331</td>\n",
       "      <td>1</td>\n",
       "      <td>0</td>\n",
       "      <td>1</td>\n",
       "      <td>0</td>\n",
       "      <td>14</td>\n",
       "      <td>15</td>\n",
       "      <td>3380.909</td>\n",
       "    </tr>\n",
       "    <tr>\n",
       "      <th>181078</th>\n",
       "      <td>g1L03QE+QipDq8nbFXBi2hEe4PY6HO2eqpAKKtFqnLw=</td>\n",
       "      <td>20170307</td>\n",
       "      <td>38</td>\n",
       "      <td>2</td>\n",
       "      <td>3</td>\n",
       "      <td>5</td>\n",
       "      <td>11</td>\n",
       "      <td>55</td>\n",
       "      <td>4081.753</td>\n",
       "    </tr>\n",
       "    <tr>\n",
       "      <th>216086</th>\n",
       "      <td>Veh06EiaUKreMS1k9doHfEK+5LRWQNhUFkl5eIRzaj0=</td>\n",
       "      <td>20170301</td>\n",
       "      <td>10</td>\n",
       "      <td>1</td>\n",
       "      <td>1</td>\n",
       "      <td>0</td>\n",
       "      <td>25</td>\n",
       "      <td>29</td>\n",
       "      <td>5247.351</td>\n",
       "    </tr>\n",
       "    <tr>\n",
       "      <th>68831</th>\n",
       "      <td>eHtBiMJltXCYJsZftrJcAOlT/5/11NGXjeZuRA305Mg=</td>\n",
       "      <td>20170312</td>\n",
       "      <td>12</td>\n",
       "      <td>2</td>\n",
       "      <td>1</td>\n",
       "      <td>0</td>\n",
       "      <td>9</td>\n",
       "      <td>19</td>\n",
       "      <td>2427.996</td>\n",
       "    </tr>\n",
       "    <tr>\n",
       "      <th>97521</th>\n",
       "      <td>KUR9lKX1KbuxrLCw8GH/CGCDvGN/S8KwxxWygVx0CLU=</td>\n",
       "      <td>20170320</td>\n",
       "      <td>0</td>\n",
       "      <td>0</td>\n",
       "      <td>0</td>\n",
       "      <td>1</td>\n",
       "      <td>19</td>\n",
       "      <td>20</td>\n",
       "      <td>5006.096</td>\n",
       "    </tr>\n",
       "    <tr>\n",
       "      <th>3905</th>\n",
       "      <td>0f/Kn1PpQqAwodF6IHTDMNpX6tYSioymLeLIhKDESGI=</td>\n",
       "      <td>20170305</td>\n",
       "      <td>1</td>\n",
       "      <td>1</td>\n",
       "      <td>0</td>\n",
       "      <td>1</td>\n",
       "      <td>68</td>\n",
       "      <td>63</td>\n",
       "      <td>17186.642</td>\n",
       "    </tr>\n",
       "    <tr>\n",
       "      <th>200662</th>\n",
       "      <td>4mW9VPpLGZir2LMibiZ3cQMd0uidlmFTFVeAiB1qkyo=</td>\n",
       "      <td>20170314</td>\n",
       "      <td>0</td>\n",
       "      <td>0</td>\n",
       "      <td>0</td>\n",
       "      <td>2</td>\n",
       "      <td>13</td>\n",
       "      <td>15</td>\n",
       "      <td>3290.863</td>\n",
       "    </tr>\n",
       "    <tr>\n",
       "      <th>178723</th>\n",
       "      <td>DMs0Z8b8kk8kKR+D80jKob+AOfwsbtJ2tMildR+qAlQ=</td>\n",
       "      <td>20170309</td>\n",
       "      <td>0</td>\n",
       "      <td>0</td>\n",
       "      <td>0</td>\n",
       "      <td>0</td>\n",
       "      <td>6</td>\n",
       "      <td>6</td>\n",
       "      <td>1504.161</td>\n",
       "    </tr>\n",
       "    <tr>\n",
       "      <th>262504</th>\n",
       "      <td>ffdKq1ID7NCT52FYAFjOUa4zeXSUtslAfcfk1oz91DI=</td>\n",
       "      <td>20170307</td>\n",
       "      <td>8</td>\n",
       "      <td>2</td>\n",
       "      <td>4</td>\n",
       "      <td>0</td>\n",
       "      <td>68</td>\n",
       "      <td>82</td>\n",
       "      <td>16340.871</td>\n",
       "    </tr>\n",
       "  </tbody>\n",
       "</table>\n",
       "</div>"
      ],
      "text/plain": [
       "                                                msno      date  num_25  \\\n",
       "33033   PMFcXigf3JMdst4NJjklEW2ibVYfRjCBwjyZMZeLYYU=  20170307      58   \n",
       "35745   GJ/AprRomU5luU1WCztUzc3RwF3kae7EQRRIEgMfZxs=  20170311       2   \n",
       "156682  elM1ZJeH0HIIFa+TCz8dA++vKpLB8pGjEY5fW41W6MY=  20170318       1   \n",
       "186602  Gg8MLJePkZ7+UG7qtz+reC6h7SPkCL4tyKxl1BsvGeg=  20170306       0   \n",
       "189990  JyO02ORpGsToER40/Xa69E4OUGCEurHuHd3P/MLiXI8=  20170321       1   \n",
       "193155  vIvQ8AX9eh6+s4qmRotwuqHw+QdjRRfhQQqfRiem4P4=  20170327       2   \n",
       "84727   xXEO2bKEIxiK7WzPRbGe3XVr+FDDzeBpSZ3YaXZdZks=  20170331       1   \n",
       "181078  g1L03QE+QipDq8nbFXBi2hEe4PY6HO2eqpAKKtFqnLw=  20170307      38   \n",
       "216086  Veh06EiaUKreMS1k9doHfEK+5LRWQNhUFkl5eIRzaj0=  20170301      10   \n",
       "68831   eHtBiMJltXCYJsZftrJcAOlT/5/11NGXjeZuRA305Mg=  20170312      12   \n",
       "97521   KUR9lKX1KbuxrLCw8GH/CGCDvGN/S8KwxxWygVx0CLU=  20170320       0   \n",
       "3905    0f/Kn1PpQqAwodF6IHTDMNpX6tYSioymLeLIhKDESGI=  20170305       1   \n",
       "200662  4mW9VPpLGZir2LMibiZ3cQMd0uidlmFTFVeAiB1qkyo=  20170314       0   \n",
       "178723  DMs0Z8b8kk8kKR+D80jKob+AOfwsbtJ2tMildR+qAlQ=  20170309       0   \n",
       "262504  ffdKq1ID7NCT52FYAFjOUa4zeXSUtslAfcfk1oz91DI=  20170307       8   \n",
       "\n",
       "        num_50  num_75  num_985  num_100  num_unq  total_secs  \n",
       "33033        6       7        1       68       94   18441.966  \n",
       "35745        0       0        0        3        4     700.213  \n",
       "156682       6       4        1        3       15    2283.838  \n",
       "186602       1       0        0       14        1    3325.977  \n",
       "189990       0       1        2        3        4    1571.994  \n",
       "193155       0       0        0        0        2      18.372  \n",
       "84727        0       1        0       14       15    3380.909  \n",
       "181078       2       3        5       11       55    4081.753  \n",
       "216086       1       1        0       25       29    5247.351  \n",
       "68831        2       1        0        9       19    2427.996  \n",
       "97521        0       0        1       19       20    5006.096  \n",
       "3905         1       0        1       68       63   17186.642  \n",
       "200662       0       0        2       13       15    3290.863  \n",
       "178723       0       0        0        6        6    1504.161  \n",
       "262504       2       4        0       68       82   16340.871  "
      ]
     },
     "execution_count": 24,
     "metadata": {},
     "output_type": "execute_result"
    }
   ],
   "source": [
    "users_df.sample(15)"
   ]
  },
  {
   "cell_type": "code",
   "execution_count": 3,
   "metadata": {},
   "outputs": [],
   "source": [
    "# change date format to datetime (then, re-run the above cells):\n",
    "\n",
    "col_list = [(members_df,'registration_init_time'), (transact_df,'transaction_date'),\n",
    "            (transact_df,'membership_expire_date'),(users_df,'date')]\n",
    "\n",
    "for df, col in col_list:\n",
    "    df[col] = pd.to_datetime(df[col],format='%Y%m%d')"
   ]
  },
  {
   "cell_type": "code",
   "execution_count": 26,
   "metadata": {},
   "outputs": [
    {
     "name": "stdout",
     "output_type": "stream",
     "text": [
      "(17660, 6)\n",
      "(23588, 9)\n",
      "(277101, 9)\n",
      "(20000, 2)\n"
     ]
    }
   ],
   "source": [
    "print(members_df.shape)\n",
    "print(transact_df.shape)\n",
    "print(users_df.shape)\n",
    "print(churn_df.shape)"
   ]
  },
  {
   "cell_type": "code",
   "execution_count": 24,
   "metadata": {},
   "outputs": [],
   "source": [
    "total_df = pd.merge(members_df, transact_df, on = 'msno')\n",
    "total_df = pd.merge(total_df, users_df, on = 'msno')\n",
    "total_df = pd.merge(total_df, churn_df, on = 'msno')"
   ]
  },
  {
   "cell_type": "code",
   "execution_count": 26,
   "metadata": {},
   "outputs": [
    {
     "data": {
      "text/plain": [
       "(335947, 23)"
      ]
     },
     "execution_count": 26,
     "metadata": {},
     "output_type": "execute_result"
    }
   ],
   "source": [
    "# total_df.to_csv('total_df')\n",
    "total_df.shape"
   ]
  },
  {
   "cell_type": "code",
   "execution_count": 54,
   "metadata": {
    "scrolled": true
   },
   "outputs": [],
   "source": [
    "x = total_df.iloc[:,2:-1]"
   ]
  },
  {
   "cell_type": "code",
   "execution_count": 55,
   "metadata": {},
   "outputs": [],
   "source": [
    "y = total_df.iloc[:,-1]"
   ]
  },
  {
   "cell_type": "code",
   "execution_count": 68,
   "metadata": {},
   "outputs": [
    {
     "name": "stderr",
     "output_type": "stream",
     "text": [
      "<ipython-input-68-1267c6c0298b>:1: SettingWithCopyWarning: \n",
      "A value is trying to be set on a copy of a slice from a DataFrame\n",
      "\n",
      "See the caveats in the documentation: https://pandas.pydata.org/pandas-docs/stable/user_guide/indexing.html#returning-a-view-versus-a-copy\n",
      "  x.gender[x.gender == 'male'] = 1\n",
      "<ipython-input-68-1267c6c0298b>:2: SettingWithCopyWarning: \n",
      "A value is trying to be set on a copy of a slice from a DataFrame\n",
      "\n",
      "See the caveats in the documentation: https://pandas.pydata.org/pandas-docs/stable/user_guide/indexing.html#returning-a-view-versus-a-copy\n",
      "  x.gender[x.gender == 'female'] = 2\n"
     ]
    }
   ],
   "source": [
    "x.gender[x.gender == 'male'] = 1\n",
    "x.gender[x.gender == 'female'] = 2"
   ]
  },
  {
   "cell_type": "code",
   "execution_count": 81,
   "metadata": {},
   "outputs": [
    {
     "data": {
      "text/plain": [
       "bd                                 int64\n",
       "gender                            object\n",
       "registered_via                     int64\n",
       "registration_init_time    datetime64[ns]\n",
       "payment_method_id                  int64\n",
       "payment_plan_days                  int64\n",
       "plan_list_price                    int64\n",
       "actual_amount_paid                 int64\n",
       "is_auto_renew                      int64\n",
       "transaction_date          datetime64[ns]\n",
       "membership_expire_date    datetime64[ns]\n",
       "is_cancel                          int64\n",
       "date                      datetime64[ns]\n",
       "num_25                             int64\n",
       "num_50                             int64\n",
       "num_75                             int64\n",
       "num_985                            int64\n",
       "num_100                            int64\n",
       "num_unq                            int64\n",
       "total_secs                       float64\n",
       "dtype: object"
      ]
     },
     "execution_count": 81,
     "metadata": {},
     "output_type": "execute_result"
    }
   ],
   "source": [
    "x.dtypes"
   ]
  },
  {
   "cell_type": "code",
   "execution_count": 83,
   "metadata": {},
   "outputs": [],
   "source": [
    "x = x.drop(['registration_init_time', 'transaction_date', 'membership_expire_date', 'date'], axis = 1)"
   ]
  },
  {
   "cell_type": "code",
   "execution_count": 100,
   "metadata": {},
   "outputs": [],
   "source": [
    "pd.set_option('display.max_rows', 100)"
   ]
  },
  {
   "cell_type": "code",
   "execution_count": 104,
   "metadata": {
    "scrolled": true
   },
   "outputs": [
    {
     "data": {
      "text/plain": [
       " 0       155071\n",
       " 27       11993\n",
       " 25       11862\n",
       " 26       10645\n",
       " 29       10270\n",
       " 24       10136\n",
       " 28        9632\n",
       " 23        9137\n",
       " 22        8526\n",
       " 30        7864\n",
       " 21        7594\n",
       " 31        6783\n",
       " 32        6654\n",
       " 34        6311\n",
       " 33        6142\n",
       " 20        5923\n",
       " 19        4837\n",
       " 36        4579\n",
       " 35        4295\n",
       " 18        4187\n",
       " 37        3506\n",
       " 38        3219\n",
       " 17        2650\n",
       " 39        2226\n",
       " 41        2010\n",
       " 40        1841\n",
       " 43        1800\n",
       " 46        1755\n",
       " 16        1591\n",
       " 42        1591\n",
       " 44        1537\n",
       " 45        1370\n",
       " 48         925\n",
       " 47         904\n",
       " 49         747\n",
       " 50         733\n",
       " 53         719\n",
       " 52         716\n",
       " 51         622\n",
       " 54         501\n",
       " 55         365\n",
       " 15         344\n",
       " 57         323\n",
       " 56         225\n",
       " 61         180\n",
       " 59         158\n",
       " 58         124\n",
       " 117        114\n",
       " 14         110\n",
       " 63          70\n",
       " 62          67\n",
       " 64          63\n",
       " 13          56\n",
       " 112         39\n",
       " 68          36\n",
       " 60          33\n",
       " 94          29\n",
       " 66          29\n",
       " 67          28\n",
       " 96          24\n",
       " 106         23\n",
       " 69          22\n",
       " 104         18\n",
       " 1043        17\n",
       " 120         14\n",
       " 72          10\n",
       " 10           5\n",
       "-46           4\n",
       " 76           4\n",
       " 71           4\n",
       " 4            3\n",
       " 100          2\n",
       "Name: bd, dtype: int64"
      ]
     },
     "execution_count": 104,
     "metadata": {},
     "output_type": "execute_result"
    }
   ],
   "source": [
    "x.bd.value_counts().sort_values(ascending = False)"
   ]
  },
  {
   "cell_type": "code",
   "execution_count": 105,
   "metadata": {},
   "outputs": [],
   "source": [
    "from sklearn import tree\n",
    "from sklearn.model_selection import train_test_split\n",
    "\n",
    "x_train, x_test, y_train, y_test = train_test_split(x, y, test_size = 0.3, random_state = 0)\n"
   ]
  },
  {
   "cell_type": "code",
   "execution_count": 113,
   "metadata": {},
   "outputs": [
    {
     "data": {
      "text/plain": [
       "(array([305785.,      0.,      0.,      0.,      0.,      0.,      0.,\n",
       "             0.,      0.,  30162.]),\n",
       " array([0. , 0.1, 0.2, 0.3, 0.4, 0.5, 0.6, 0.7, 0.8, 0.9, 1. ]),\n",
       " <a list of 10 Patch objects>)"
      ]
     },
     "execution_count": 113,
     "metadata": {},
     "output_type": "execute_result"
    },
    {
     "data": {
      "image/png": "[encoded data removed]",
      "text/plain": [
       "<Figure size 864x432 with 1 Axes>"
      ]
     },
     "metadata": {},
     "output_type": "display_data"
    }
   ],
   "source": [
    "plt.figure(figsize = (12,6))\n",
    "plt.hist(y)"
   ]
  },
  {
   "cell_type": "code",
   "execution_count": 115,
   "metadata": {},
   "outputs": [
    {
     "data": {
      "text/plain": [
       "0.09205"
      ]
     },
     "execution_count": 115,
     "metadata": {},
     "output_type": "execute_result"
    }
   ],
   "source": [
    "sum(churn_df.is_churn)/len(churn_df)"
   ]
  },
  {
   "cell_type": "code",
   "execution_count": 120,
   "metadata": {},
   "outputs": [
    {
     "data": {
      "text/plain": [
       "0.08978201918755041"
      ]
     },
     "execution_count": 120,
     "metadata": {},
     "output_type": "execute_result"
    }
   ],
   "source": [
    "sum(y)/len(y)"
   ]
  },
  {
   "cell_type": "code",
   "execution_count": 141,
   "metadata": {},
   "outputs": [
    {
     "data": {
      "text/plain": [
       "2411"
      ]
     },
     "execution_count": 141,
     "metadata": {},
     "output_type": "execute_result"
    }
   ],
   "source": [
    "(total_df.is_cancel * total_df.is_churn).sum()"
   ]
  },
  {
   "cell_type": "code",
   "execution_count": 139,
   "metadata": {},
   "outputs": [
    {
     "data": {
      "text/plain": [
       "7026"
      ]
     },
     "execution_count": 139,
     "metadata": {},
     "output_type": "execute_result"
    }
   ],
   "source": [
    "sum(total_df.is_cancel)"
   ]
  },
  {
   "cell_type": "code",
   "execution_count": 140,
   "metadata": {},
   "outputs": [
    {
     "data": {
      "text/plain": [
       "30162"
      ]
     },
     "execution_count": 140,
     "metadata": {},
     "output_type": "execute_result"
    }
   ],
   "source": [
    "sum(total_df.is_churn)"
   ]
  },
  {
   "cell_type": "code",
   "execution_count": 6,
   "metadata": {},
   "outputs": [],
   "source": [
    "users_churn_df = pd.merge(users_df, churn_df, on = 'msno')"
   ]
  },
  {
   "cell_type": "code",
   "execution_count": 145,
   "metadata": {},
   "outputs": [
    {
     "data": {
      "text/html": [
       "<div>\n",
       "<style scoped>\n",
       "    .dataframe tbody tr th:only-of-type {\n",
       "        vertical-align: middle;\n",
       "    }\n",
       "\n",
       "    .dataframe tbody tr th {\n",
       "        vertical-align: top;\n",
       "    }\n",
       "\n",
       "    .dataframe thead th {\n",
       "        text-align: right;\n",
       "    }\n",
       "</style>\n",
       "<table border=\"1\" class=\"dataframe\">\n",
       "  <thead>\n",
       "    <tr style=\"text-align: right;\">\n",
       "      <th></th>\n",
       "      <th>msno</th>\n",
       "      <th>date</th>\n",
       "      <th>num_25</th>\n",
       "      <th>num_50</th>\n",
       "      <th>num_75</th>\n",
       "      <th>num_985</th>\n",
       "      <th>num_100</th>\n",
       "      <th>num_unq</th>\n",
       "      <th>total_secs</th>\n",
       "      <th>is_churn</th>\n",
       "    </tr>\n",
       "  </thead>\n",
       "  <tbody>\n",
       "    <tr>\n",
       "      <th>227169</th>\n",
       "      <td>cYIsXfYFp45KmSAhwoEywrGlIl3bHdxQeI/jzzVlyoA=</td>\n",
       "      <td>2017-03-15</td>\n",
       "      <td>0</td>\n",
       "      <td>0</td>\n",
       "      <td>0</td>\n",
       "      <td>0</td>\n",
       "      <td>55</td>\n",
       "      <td>54</td>\n",
       "      <td>13677.345</td>\n",
       "      <td>0</td>\n",
       "    </tr>\n",
       "    <tr>\n",
       "      <th>59229</th>\n",
       "      <td>gwXcyOW3obAheGwDXHeB+2QKJXMAJ6QMR9UUbw5fYGE=</td>\n",
       "      <td>2017-03-27</td>\n",
       "      <td>11</td>\n",
       "      <td>3</td>\n",
       "      <td>0</td>\n",
       "      <td>1</td>\n",
       "      <td>14</td>\n",
       "      <td>28</td>\n",
       "      <td>3721.650</td>\n",
       "      <td>0</td>\n",
       "    </tr>\n",
       "    <tr>\n",
       "      <th>249144</th>\n",
       "      <td>eBBXmb1AWVfjfxBLAwD8JpzTv0GaumTxRQym7uG4tWg=</td>\n",
       "      <td>2017-03-10</td>\n",
       "      <td>0</td>\n",
       "      <td>0</td>\n",
       "      <td>2</td>\n",
       "      <td>0</td>\n",
       "      <td>48</td>\n",
       "      <td>50</td>\n",
       "      <td>12041.049</td>\n",
       "      <td>0</td>\n",
       "    </tr>\n",
       "    <tr>\n",
       "      <th>13952</th>\n",
       "      <td>8kyOFzy2Xr7JY51V8yGbrLGc/e6B+i/0osdIrozivCg=</td>\n",
       "      <td>2017-03-22</td>\n",
       "      <td>37</td>\n",
       "      <td>1</td>\n",
       "      <td>1</td>\n",
       "      <td>1</td>\n",
       "      <td>44</td>\n",
       "      <td>44</td>\n",
       "      <td>11824.658</td>\n",
       "      <td>0</td>\n",
       "    </tr>\n",
       "    <tr>\n",
       "      <th>251509</th>\n",
       "      <td>hXg2ZXuIjC11KEq4Xd9MWUMs0X5pjueumqw0sup5ky4=</td>\n",
       "      <td>2017-03-18</td>\n",
       "      <td>1</td>\n",
       "      <td>1</td>\n",
       "      <td>0</td>\n",
       "      <td>1</td>\n",
       "      <td>7</td>\n",
       "      <td>10</td>\n",
       "      <td>2031.660</td>\n",
       "      <td>0</td>\n",
       "    </tr>\n",
       "    <tr>\n",
       "      <th>120669</th>\n",
       "      <td>+bUEBlElpff/bIJIMeAN4rrvn40IkfEVPVjiEnmPcAY=</td>\n",
       "      <td>2017-03-10</td>\n",
       "      <td>0</td>\n",
       "      <td>0</td>\n",
       "      <td>1</td>\n",
       "      <td>1</td>\n",
       "      <td>19</td>\n",
       "      <td>19</td>\n",
       "      <td>5618.562</td>\n",
       "      <td>0</td>\n",
       "    </tr>\n",
       "    <tr>\n",
       "      <th>60473</th>\n",
       "      <td>LEegyDHpit60k9Y8+sJsnlOUMQ8O9pjm7IMVnm708XU=</td>\n",
       "      <td>2017-03-08</td>\n",
       "      <td>12</td>\n",
       "      <td>0</td>\n",
       "      <td>2</td>\n",
       "      <td>0</td>\n",
       "      <td>14</td>\n",
       "      <td>28</td>\n",
       "      <td>4037.651</td>\n",
       "      <td>0</td>\n",
       "    </tr>\n",
       "    <tr>\n",
       "      <th>269600</th>\n",
       "      <td>3k6oaydYJ9ALCn7EnlAAR+aDgFYF21IotkLMpsYcFxI=</td>\n",
       "      <td>2017-03-06</td>\n",
       "      <td>6</td>\n",
       "      <td>0</td>\n",
       "      <td>1</td>\n",
       "      <td>0</td>\n",
       "      <td>23</td>\n",
       "      <td>29</td>\n",
       "      <td>5570.433</td>\n",
       "      <td>0</td>\n",
       "    </tr>\n",
       "    <tr>\n",
       "      <th>137465</th>\n",
       "      <td>6s0jjOM0REWrhjS/4epBy9+kOozg/kyluLRM2ze7fz0=</td>\n",
       "      <td>2017-03-03</td>\n",
       "      <td>0</td>\n",
       "      <td>0</td>\n",
       "      <td>0</td>\n",
       "      <td>0</td>\n",
       "      <td>2</td>\n",
       "      <td>2</td>\n",
       "      <td>543.000</td>\n",
       "      <td>0</td>\n",
       "    </tr>\n",
       "    <tr>\n",
       "      <th>156401</th>\n",
       "      <td>hMpARSvYlgedt2srdjNg1Am0RXHm25k69/hJiDdTEEw=</td>\n",
       "      <td>2017-03-03</td>\n",
       "      <td>0</td>\n",
       "      <td>0</td>\n",
       "      <td>1</td>\n",
       "      <td>1</td>\n",
       "      <td>23</td>\n",
       "      <td>20</td>\n",
       "      <td>6365.566</td>\n",
       "      <td>0</td>\n",
       "    </tr>\n",
       "    <tr>\n",
       "      <th>117343</th>\n",
       "      <td>sAVdRk0ZmcrT2NSkCRd+aFSTimjyUHCLyU5yXQWLuyo=</td>\n",
       "      <td>2017-03-20</td>\n",
       "      <td>4</td>\n",
       "      <td>4</td>\n",
       "      <td>0</td>\n",
       "      <td>0</td>\n",
       "      <td>11</td>\n",
       "      <td>13</td>\n",
       "      <td>2832.150</td>\n",
       "      <td>0</td>\n",
       "    </tr>\n",
       "    <tr>\n",
       "      <th>249215</th>\n",
       "      <td>EsM5o0IBvqw85WJHCJDfL+tEsHRKHNweAN7HYaCaT/k=</td>\n",
       "      <td>2017-03-09</td>\n",
       "      <td>16</td>\n",
       "      <td>2</td>\n",
       "      <td>1</td>\n",
       "      <td>1</td>\n",
       "      <td>35</td>\n",
       "      <td>55</td>\n",
       "      <td>9581.476</td>\n",
       "      <td>0</td>\n",
       "    </tr>\n",
       "    <tr>\n",
       "      <th>207367</th>\n",
       "      <td>sqmgb8bm5yzCRO+kCJB5PDYdl1srnCQ4HSBvlYH1m9A=</td>\n",
       "      <td>2017-03-28</td>\n",
       "      <td>0</td>\n",
       "      <td>0</td>\n",
       "      <td>0</td>\n",
       "      <td>0</td>\n",
       "      <td>9</td>\n",
       "      <td>9</td>\n",
       "      <td>2035.710</td>\n",
       "      <td>0</td>\n",
       "    </tr>\n",
       "    <tr>\n",
       "      <th>119017</th>\n",
       "      <td>xhgpwqIrm52JWmcUtcJHtM/anO1AA8Q5DCXZCY3bJO8=</td>\n",
       "      <td>2017-03-25</td>\n",
       "      <td>4</td>\n",
       "      <td>2</td>\n",
       "      <td>0</td>\n",
       "      <td>0</td>\n",
       "      <td>72</td>\n",
       "      <td>78</td>\n",
       "      <td>18541.184</td>\n",
       "      <td>0</td>\n",
       "    </tr>\n",
       "    <tr>\n",
       "      <th>213857</th>\n",
       "      <td>GWajxhzyXrLwHKqVdg5lBx4NBcw805oRW5glW0P5qMc=</td>\n",
       "      <td>2017-03-13</td>\n",
       "      <td>2</td>\n",
       "      <td>0</td>\n",
       "      <td>1</td>\n",
       "      <td>0</td>\n",
       "      <td>1</td>\n",
       "      <td>4</td>\n",
       "      <td>430.450</td>\n",
       "      <td>0</td>\n",
       "    </tr>\n",
       "  </tbody>\n",
       "</table>\n",
       "</div>"
      ],
      "text/plain": [
       "                                                msno       date  num_25  \\\n",
       "227169  cYIsXfYFp45KmSAhwoEywrGlIl3bHdxQeI/jzzVlyoA= 2017-03-15       0   \n",
       "59229   gwXcyOW3obAheGwDXHeB+2QKJXMAJ6QMR9UUbw5fYGE= 2017-03-27      11   \n",
       "249144  eBBXmb1AWVfjfxBLAwD8JpzTv0GaumTxRQym7uG4tWg= 2017-03-10       0   \n",
       "13952   8kyOFzy2Xr7JY51V8yGbrLGc/e6B+i/0osdIrozivCg= 2017-03-22      37   \n",
       "251509  hXg2ZXuIjC11KEq4Xd9MWUMs0X5pjueumqw0sup5ky4= 2017-03-18       1   \n",
       "120669  +bUEBlElpff/bIJIMeAN4rrvn40IkfEVPVjiEnmPcAY= 2017-03-10       0   \n",
       "60473   LEegyDHpit60k9Y8+sJsnlOUMQ8O9pjm7IMVnm708XU= 2017-03-08      12   \n",
       "269600  3k6oaydYJ9ALCn7EnlAAR+aDgFYF21IotkLMpsYcFxI= 2017-03-06       6   \n",
       "137465  6s0jjOM0REWrhjS/4epBy9+kOozg/kyluLRM2ze7fz0= 2017-03-03       0   \n",
       "156401  hMpARSvYlgedt2srdjNg1Am0RXHm25k69/hJiDdTEEw= 2017-03-03       0   \n",
       "117343  sAVdRk0ZmcrT2NSkCRd+aFSTimjyUHCLyU5yXQWLuyo= 2017-03-20       4   \n",
       "249215  EsM5o0IBvqw85WJHCJDfL+tEsHRKHNweAN7HYaCaT/k= 2017-03-09      16   \n",
       "207367  sqmgb8bm5yzCRO+kCJB5PDYdl1srnCQ4HSBvlYH1m9A= 2017-03-28       0   \n",
       "119017  xhgpwqIrm52JWmcUtcJHtM/anO1AA8Q5DCXZCY3bJO8= 2017-03-25       4   \n",
       "213857  GWajxhzyXrLwHKqVdg5lBx4NBcw805oRW5glW0P5qMc= 2017-03-13       2   \n",
       "\n",
       "        num_50  num_75  num_985  num_100  num_unq  total_secs  is_churn  \n",
       "227169       0       0        0       55       54   13677.345         0  \n",
       "59229        3       0        1       14       28    3721.650         0  \n",
       "249144       0       2        0       48       50   12041.049         0  \n",
       "13952        1       1        1       44       44   11824.658         0  \n",
       "251509       1       0        1        7       10    2031.660         0  \n",
       "120669       0       1        1       19       19    5618.562         0  \n",
       "60473        0       2        0       14       28    4037.651         0  \n",
       "269600       0       1        0       23       29    5570.433         0  \n",
       "137465       0       0        0        2        2     543.000         0  \n",
       "156401       0       1        1       23       20    6365.566         0  \n",
       "117343       4       0        0       11       13    2832.150         0  \n",
       "249215       2       1        1       35       55    9581.476         0  \n",
       "207367       0       0        0        9        9    2035.710         0  \n",
       "119017       2       0        0       72       78   18541.184         0  \n",
       "213857       0       1        0        1        4     430.450         0  "
      ]
     },
     "execution_count": 145,
     "metadata": {},
     "output_type": "execute_result"
    }
   ],
   "source": [
    "users_churn_df.sample(15)"
   ]
  },
  {
   "cell_type": "code",
   "execution_count": 158,
   "metadata": {},
   "outputs": [
    {
     "data": {
      "text/plain": [
       "array([<matplotlib.axes._subplots.AxesSubplot object at 0x7f8081159d60>,\n",
       "       <matplotlib.axes._subplots.AxesSubplot object at 0x7f80811b33d0>],\n",
       "      dtype=object)"
      ]
     },
     "execution_count": 158,
     "metadata": {},
     "output_type": "execute_result"
    },
    {
     "data": {
      "image/png": "[encoded data removed]",
      "text/plain": [
       "<Figure size 432x288 with 2 Axes>"
      ]
     },
     "metadata": {},
     "output_type": "display_data"
    }
   ],
   "source": [
    "users_churn_df.total_secs.hist(by = users_churn_df.is_churn, sharex = True)\n",
    "\n",
    "# this graph is not particularly helpful since it seems to simple reflect that those that\n",
    "# churn do not spend as much total time listenting, which is expected."
   ]
  },
  {
   "cell_type": "code",
   "execution_count": 153,
   "metadata": {},
   "outputs": [
    {
     "data": {
      "text/plain": [
       "array([<matplotlib.axes._subplots.AxesSubplot object at 0x7f7ffd8b31c0>,\n",
       "       <matplotlib.axes._subplots.AxesSubplot object at 0x7f7ffd87eac0>],\n",
       "      dtype=object)"
      ]
     },
     "execution_count": 153,
     "metadata": {},
     "output_type": "execute_result"
    },
    {
     "data": {
      "image/png": "[encoded data removed]",
      "text/plain": [
       "<Figure size 432x288 with 2 Axes>"
      ]
     },
     "metadata": {},
     "output_type": "display_data"
    }
   ],
   "source": [
    "users_churn_df.num_25.hist(by = users_churn_df.is_churn, sharex = True)"
   ]
  },
  {
   "cell_type": "code",
   "execution_count": 154,
   "metadata": {},
   "outputs": [
    {
     "data": {
      "text/plain": [
       "array([<matplotlib.axes._subplots.AxesSubplot object at 0x7f7ffd9f7730>,\n",
       "       <matplotlib.axes._subplots.AxesSubplot object at 0x7f7ffde03eb0>],\n",
       "      dtype=object)"
      ]
     },
     "execution_count": 154,
     "metadata": {},
     "output_type": "execute_result"
    },
    {
     "data": {
      "image/png": "[encoded data removed]",
      "text/plain": [
       "<Figure size 432x288 with 2 Axes>"
      ]
     },
     "metadata": {},
     "output_type": "display_data"
    }
   ],
   "source": [
    "users_churn_df.num_50.hist(by = users_churn_df.is_churn, sharex = True)"
   ]
  },
  {
   "cell_type": "code",
   "execution_count": 155,
   "metadata": {},
   "outputs": [
    {
     "data": {
      "text/plain": [
       "array([<matplotlib.axes._subplots.AxesSubplot object at 0x7f7ffe372070>,\n",
       "       <matplotlib.axes._subplots.AxesSubplot object at 0x7f802f111940>],\n",
       "      dtype=object)"
      ]
     },
     "execution_count": 155,
     "metadata": {},
     "output_type": "execute_result"
    },
    {
     "data": {
      "image/png": "[encoded data removed]",
      "text/plain": [
       "<Figure size 432x288 with 2 Axes>"
      ]
     },
     "metadata": {},
     "output_type": "display_data"
    }
   ],
   "source": [
    "users_churn_df.num_75.hist(by = users_churn_df.is_churn, sharex = True)"
   ]
  },
  {
   "cell_type": "code",
   "execution_count": 156,
   "metadata": {},
   "outputs": [
    {
     "data": {
      "text/plain": [
       "array([<matplotlib.axes._subplots.AxesSubplot object at 0x7f8023053970>,\n",
       "       <matplotlib.axes._subplots.AxesSubplot object at 0x7f7ffaaa1790>],\n",
       "      dtype=object)"
      ]
     },
     "execution_count": 156,
     "metadata": {},
     "output_type": "execute_result"
    },
    {
     "data": {
      "image/png": "[encoded data removed]",
      "text/plain": [
       "<Figure size 432x288 with 2 Axes>"
      ]
     },
     "metadata": {},
     "output_type": "display_data"
    }
   ],
   "source": [
    "users_churn_df.num_985.hist(by = users_churn_df.is_churn, sharex = True)"
   ]
  },
  {
   "cell_type": "code",
   "execution_count": 157,
   "metadata": {},
   "outputs": [
    {
     "data": {
      "text/plain": [
       "array([<matplotlib.axes._subplots.AxesSubplot object at 0x7f80aad4ba00>,\n",
       "       <matplotlib.axes._subplots.AxesSubplot object at 0x7f806cc3eca0>],\n",
       "      dtype=object)"
      ]
     },
     "execution_count": 157,
     "metadata": {},
     "output_type": "execute_result"
    },
    {
     "data": {
      "image/png": "[encoded data removed]",
      "text/plain": [
       "<Figure size 432x288 with 2 Axes>"
      ]
     },
     "metadata": {},
     "output_type": "display_data"
    }
   ],
   "source": [
    "users_churn_df.num_100.hist(by = users_churn_df.is_churn, sharex = True)"
   ]
  },
  {
   "cell_type": "code",
   "execution_count": 160,
   "metadata": {},
   "outputs": [
    {
     "data": {
      "text/plain": [
       "array([<matplotlib.axes._subplots.AxesSubplot object at 0x7f80811c71c0>,\n",
       "       <matplotlib.axes._subplots.AxesSubplot object at 0x7f808128b9a0>],\n",
       "      dtype=object)"
      ]
     },
     "execution_count": 160,
     "metadata": {},
     "output_type": "execute_result"
    },
    {
     "data": {
      "image/png": "[encoded data removed]",
      "text/plain": [
       "<Figure size 432x288 with 2 Axes>"
      ]
     },
     "metadata": {},
     "output_type": "display_data"
    }
   ],
   "source": [
    "users_churn_df.num_unq.hist(by = users_churn_df.is_churn, sharex = True)"
   ]
  },
  {
   "cell_type": "code",
   "execution_count": 161,
   "metadata": {},
   "outputs": [],
   "source": [
    "users_churn_df.to_csv('users_churn_df.csv')"
   ]
  },
  {
   "cell_type": "code",
   "execution_count": 35,
   "metadata": {},
   "outputs": [],
   "source": [
    "x = users_churn_df.iloc[:,2:9]\n",
    "y = users_churn_df['is_churn']"
   ]
  },
  {
   "cell_type": "code",
   "execution_count": 214,
   "metadata": {},
   "outputs": [
    {
     "data": {
      "text/plain": [
       "0.9964272954626653"
      ]
     },
     "execution_count": 214,
     "metadata": {},
     "output_type": "execute_result"
    }
   ],
   "source": [
    "from sklearn import ensemble\n",
    "rf_users_churn = ensemble.RandomForestClassifier()\n",
    "rf_users_churn.set_params(random_state = 0, n_estimators = 50, max_features = 2)\n",
    "rf_users_churn.fit(x,y)\n",
    "rf_users_churn.score(x,y)"
   ]
  },
  {
   "cell_type": "code",
   "execution_count": 41,
   "metadata": {},
   "outputs": [],
   "source": [
    "from sklearn.model_selection import train_test_split\n",
    "x_train, x_test, y_train, y_test = train_test_split(x,y, test_size = 0.2, random_state = 0)"
   ]
  },
  {
   "cell_type": "code",
   "execution_count": 215,
   "metadata": {
    "scrolled": true
   },
   "outputs": [
    {
     "name": "stdout",
     "output_type": "stream",
     "text": [
      "0.9965581017683147\n",
      "0.9029970588765991\n"
     ]
    }
   ],
   "source": [
    "rf_users_churn.fit(x_train,y_train)\n",
    "print(rf_users_churn.score(x_train,y_train))\n",
    "print(rf_users_churn.score(x_test,y_test))"
   ]
  },
  {
   "cell_type": "code",
   "execution_count": 176,
   "metadata": {},
   "outputs": [
    {
     "data": {
      "text/plain": [
       "array([0.08488167, 0.03927507, 0.03252408, 0.03727455, 0.1291103 ,\n",
       "       0.14446126, 0.53247307])"
      ]
     },
     "execution_count": 176,
     "metadata": {},
     "output_type": "execute_result"
    }
   ],
   "source": [
    "rf_users_churn.feature_importances_"
   ]
  },
  {
   "cell_type": "code",
   "execution_count": 179,
   "metadata": {},
   "outputs": [
    {
     "data": {
      "text/plain": [
       "<matplotlib.axes._subplots.AxesSubplot at 0x7f7edb981940>"
      ]
     },
     "execution_count": 179,
     "metadata": {},
     "output_type": "execute_result"
    },
    {
     "data": {
      "image/png": "[encoded data removed]",
      "text/plain": [
       "<Figure size 432x288 with 1 Axes>"
      ]
     },
     "metadata": {},
     "output_type": "display_data"
    }
   ],
   "source": [
    "feature_importance = list(zip(x_train.columns[:-2], rf_users_churn.feature_importances_))\n",
    "dtype = [('feature', 'S10'), ('importance', 'float')]\n",
    "feature_importance = np.array(feature_importance, dtype=dtype)\n",
    "feature_sort = np.sort(feature_importance, order='importance')[::-1]\n",
    "name, score = zip(*list(feature_sort))\n",
    "pd.DataFrame({'name':name,'score':score})[:15].plot.bar(x='name', y='score')"
   ]
  },
  {
   "cell_type": "code",
   "execution_count": 37,
   "metadata": {},
   "outputs": [],
   "source": [
    "from sklearn import linear_model\n",
    "ols = linear_model.LinearRegression()"
   ]
  },
  {
   "cell_type": "code",
   "execution_count": 186,
   "metadata": {},
   "outputs": [
    {
     "data": {
      "text/plain": [
       "array([[33],\n",
       "       [ 1],\n",
       "       [15],\n",
       "       ...,\n",
       "       [ 7],\n",
       "       [ 4],\n",
       "       [ 0]])"
      ]
     },
     "execution_count": 186,
     "metadata": {},
     "output_type": "execute_result"
    }
   ],
   "source": [
    "np.array(x_train['num_25']).reshape(-1,1)"
   ]
  },
  {
   "cell_type": "code",
   "execution_count": 187,
   "metadata": {},
   "outputs": [
    {
     "data": {
      "text/plain": [
       "LinearRegression()"
      ]
     },
     "execution_count": 187,
     "metadata": {},
     "output_type": "execute_result"
    }
   ],
   "source": [
    "ols.fit(np.array(x_train['num_25']).reshape(-1,1),np.array(x_train['num_100']).reshape(-1,1))"
   ]
  },
  {
   "cell_type": "code",
   "execution_count": 190,
   "metadata": {},
   "outputs": [
    {
     "data": {
      "text/plain": [
       "0.012185872012268395"
      ]
     },
     "execution_count": 190,
     "metadata": {},
     "output_type": "execute_result"
    }
   ],
   "source": [
    "ols.score(np.array(x_train['num_25']).reshape(-1,1),np.array(x_train['num_100']).reshape(-1,1))"
   ]
  },
  {
   "cell_type": "code",
   "execution_count": 38,
   "metadata": {},
   "outputs": [
    {
     "ename": "NameError",
     "evalue": "name 'x_train' is not defined",
     "output_type": "error",
     "traceback": [
      "\u001b[0;31m---------------------------------------------------------------------------\u001b[0m",
      "\u001b[0;31mNameError\u001b[0m                                 Traceback (most recent call last)",
      "\u001b[0;32m<ipython-input-38-a61c7f6e31ce>\u001b[0m in \u001b[0;36m<module>\u001b[0;34m\u001b[0m\n\u001b[0;32m----> 1\u001b[0;31m \u001b[0mplt\u001b[0m\u001b[0;34m.\u001b[0m\u001b[0mscatter\u001b[0m\u001b[0;34m(\u001b[0m\u001b[0mnp\u001b[0m\u001b[0;34m.\u001b[0m\u001b[0marray\u001b[0m\u001b[0;34m(\u001b[0m\u001b[0mx_train\u001b[0m\u001b[0;34m[\u001b[0m\u001b[0;34m'num_25'\u001b[0m\u001b[0;34m]\u001b[0m\u001b[0;34m)\u001b[0m\u001b[0;34m.\u001b[0m\u001b[0mreshape\u001b[0m\u001b[0;34m(\u001b[0m\u001b[0;34m-\u001b[0m\u001b[0;36m1\u001b[0m\u001b[0;34m,\u001b[0m\u001b[0;36m1\u001b[0m\u001b[0;34m)\u001b[0m\u001b[0;34m,\u001b[0m\u001b[0mnp\u001b[0m\u001b[0;34m.\u001b[0m\u001b[0marray\u001b[0m\u001b[0;34m(\u001b[0m\u001b[0mx_train\u001b[0m\u001b[0;34m[\u001b[0m\u001b[0;34m'num_100'\u001b[0m\u001b[0;34m]\u001b[0m\u001b[0;34m)\u001b[0m\u001b[0;34m.\u001b[0m\u001b[0mreshape\u001b[0m\u001b[0;34m(\u001b[0m\u001b[0;34m-\u001b[0m\u001b[0;36m1\u001b[0m\u001b[0;34m,\u001b[0m\u001b[0;36m1\u001b[0m\u001b[0;34m)\u001b[0m\u001b[0;34m)\u001b[0m\u001b[0;34m\u001b[0m\u001b[0;34m\u001b[0m\u001b[0m\n\u001b[0m",
      "\u001b[0;31mNameError\u001b[0m: name 'x_train' is not defined"
     ]
    }
   ],
   "source": [
    "plt.scatter(np.array(x_train['num_25']).reshape(-1,1),np.array(x_train['num_100']).reshape(-1,1))"
   ]
  },
  {
   "cell_type": "code",
   "execution_count": 43,
   "metadata": {},
   "outputs": [],
   "source": [
    "logit = linear_model.LogisticRegression(solver = 'liblinear')"
   ]
  },
  {
   "cell_type": "code",
   "execution_count": 44,
   "metadata": {},
   "outputs": [
    {
     "name": "stdout",
     "output_type": "stream",
     "text": [
      "0.9182425117286178\n",
      "0.9186589920788149\n"
     ]
    }
   ],
   "source": [
    "logit.fit(x_train,y_train)\n",
    "print(logit.score(x_train,y_train))\n",
    "print(logit.score(x_test,y_test))"
   ]
  },
  {
   "cell_type": "code",
   "execution_count": 69,
   "metadata": {},
   "outputs": [],
   "source": [
    "thresholds = np.arange(0,1,0.001)\n",
    "prop_churn = np.zeros(len(thresholds))\n",
    "for i in range(len(thresholds)):\n",
    "    prop_churn[i] = sum(logit.predict_proba(x_train)[:,1] > thresholds[i])/len(x_train)"
   ]
  },
  {
   "cell_type": "code",
   "execution_count": 82,
   "metadata": {},
   "outputs": [
    {
     "data": {
      "text/plain": [
       "[<matplotlib.lines.Line2D at 0x7f965764e3d0>]"
      ]
     },
     "execution_count": 82,
     "metadata": {},
     "output_type": "execute_result"
    },
    {
     "data": {
      "image/png": "[encoded data removed]",
      "text/plain": [
       "<Figure size 1080x648 with 1 Axes>"
      ]
     },
     "metadata": {},
     "output_type": "display_data"
    }
   ],
   "source": [
    "plt.figure(figsize = (15,9))\n",
    "plt.plot(thresholds, prop_churn)"
   ]
  },
  {
   "cell_type": "code",
   "execution_count": 68,
   "metadata": {},
   "outputs": [
    {
     "data": {
      "text/plain": [
       "0.096"
      ]
     },
     "execution_count": 68,
     "metadata": {},
     "output_type": "execute_result"
    }
   ],
   "source": [
    "thresholds[len(prop_churn[prop_churn > 0.09])]"
   ]
  },
  {
   "cell_type": "code",
   "execution_count": 75,
   "metadata": {},
   "outputs": [
    {
     "data": {
      "text/plain": [
       "0.08556323415311885"
      ]
     },
     "execution_count": 75,
     "metadata": {},
     "output_type": "execute_result"
    }
   ],
   "source": [
    "len(x_test[logit.predict_proba(x_test)[:,1] > 0.096])/len(x_test)"
   ]
  },
  {
   "cell_type": "code",
   "execution_count": 197,
   "metadata": {},
   "outputs": [
    {
     "data": {
      "text/plain": [
       "array([[33, 36],\n",
       "       [ 1, 54],\n",
       "       [15, 31],\n",
       "       ...,\n",
       "       [ 7, 11],\n",
       "       [ 4, 15],\n",
       "       [ 0, 14]])"
      ]
     },
     "execution_count": 197,
     "metadata": {},
     "output_type": "execute_result"
    }
   ],
   "source": [
    "x_train[['num_25','num_100']]"
   ]
  },
  {
   "cell_type": "code",
   "execution_count": 202,
   "metadata": {},
   "outputs": [
    {
     "name": "stdout",
     "output_type": "stream",
     "text": [
      "0.9182425117286178\n",
      "0.9186589920788149\n"
     ]
    }
   ],
   "source": [
    "logit.fit(x_train[['num_25','num_100']],y_train)\n",
    "print(logit.score(x_train[['num_25','num_100']],y_train))\n",
    "print(logit.score(x_test[['num_25','num_100']],y_test))"
   ]
  },
  {
   "cell_type": "code",
   "execution_count": 203,
   "metadata": {},
   "outputs": [
    {
     "name": "stdout",
     "output_type": "stream",
     "text": [
      "0.9182425117286178\n",
      "0.9186589920788149\n"
     ]
    }
   ],
   "source": [
    "logit.fit(x_train[['num_100']],y_train)\n",
    "print(logit.score(x_train[['num_100']],y_train))\n",
    "print(logit.score(x_test[['num_100']],y_test))"
   ]
  },
  {
   "cell_type": "code",
   "execution_count": 204,
   "metadata": {},
   "outputs": [
    {
     "name": "stdout",
     "output_type": "stream",
     "text": [
      "0.9182425117286178\n",
      "0.918640948376969\n"
     ]
    }
   ],
   "source": [
    "logit.fit(x_train[['num_75']],y_train)\n",
    "print(logit.score(x_train[['num_75']],y_train))\n",
    "print(logit.score(x_test[['num_75']],y_test))"
   ]
  },
  {
   "cell_type": "code",
   "execution_count": 77,
   "metadata": {},
   "outputs": [
    {
     "data": {
      "text/plain": [
       "<matplotlib.collections.PathCollection at 0x7f96534a5eb0>"
      ]
     },
     "execution_count": 77,
     "metadata": {},
     "output_type": "execute_result"
    },
    {
     "data": {
      "image/png": "[encoded data removed]",
      "text/plain": [
       "<Figure size 1080x648 with 1 Axes>"
      ]
     },
     "metadata": {},
     "output_type": "display_data"
    }
   ],
   "source": [
    "plt.figure(figsize = (15,9))\n",
    "plt.scatter(x['num_100'], y)"
   ]
  },
  {
   "cell_type": "code",
   "execution_count": 78,
   "metadata": {},
   "outputs": [
    {
     "data": {
      "text/plain": [
       "<matplotlib.collections.PathCollection at 0x7f9653935e20>"
      ]
     },
     "execution_count": 78,
     "metadata": {},
     "output_type": "execute_result"
    },
    {
     "data": {
      "image/png": "[encoded data removed]",
      "text/plain": [
       "<Figure size 1080x648 with 1 Axes>"
      ]
     },
     "metadata": {},
     "output_type": "display_data"
    }
   ],
   "source": [
    "plt.figure(figsize = (15,9))\n",
    "plt.scatter(x['num_25'], y)"
   ]
  },
  {
   "cell_type": "code",
   "execution_count": 80,
   "metadata": {},
   "outputs": [
    {
     "data": {
      "text/plain": [
       "<matplotlib.collections.PathCollection at 0x7f96546dc190>"
      ]
     },
     "execution_count": 80,
     "metadata": {},
     "output_type": "execute_result"
    },
    {
     "data": {
      "image/png": "[encoded data removed]",
      "text/plain": [
       "<Figure size 1080x648 with 1 Axes>"
      ]
     },
     "metadata": {},
     "output_type": "display_data"
    }
   ],
   "source": [
    "plt.figure(figsize = (15,9))\n",
    "plt.scatter(x['num_unq'], y)"
   ]
  },
  {
   "cell_type": "code",
   "execution_count": 81,
   "metadata": {},
   "outputs": [
    {
     "data": {
      "text/plain": [
       "<matplotlib.collections.PathCollection at 0x7f965473b4f0>"
      ]
     },
     "execution_count": 81,
     "metadata": {},
     "output_type": "execute_result"
    },
    {
     "data": {
      "image/png": "[encoded data removed]",
      "text/plain": [
       "<Figure size 1080x648 with 1 Axes>"
      ]
     },
     "metadata": {},
     "output_type": "display_data"
    }
   ],
   "source": [
    "plt.figure(figsize = (15,9))\n",
    "plt.scatter(x['total_secs'], y)"
   ]
  },
  {
   "cell_type": "code",
   "execution_count": 207,
   "metadata": {},
   "outputs": [],
   "source": [
    "y_pred = logit.predict(x_test[['num_25']])"
   ]
  },
  {
   "cell_type": "code",
   "execution_count": 208,
   "metadata": {},
   "outputs": [
    {
     "data": {
      "text/plain": [
       "0.0023276375381173203"
      ]
     },
     "execution_count": 208,
     "metadata": {},
     "output_type": "execute_result"
    }
   ],
   "source": [
    "sum(y_pred)/len(y_pred)\n",
    "\n",
    "# this is very bad. The model just picks almost all users to not churn, and that yields about \n",
    "# 0.92 accuracy because that's approx the percent of users who do not churn"
   ]
  },
  {
   "cell_type": "code",
   "execution_count": 209,
   "metadata": {},
   "outputs": [],
   "source": [
    "y_pred = rf_users_churn.predict(x_test)"
   ]
  },
  {
   "cell_type": "code",
   "execution_count": 210,
   "metadata": {},
   "outputs": [
    {
     "data": {
      "text/plain": [
       "0.01961350390646145"
      ]
     },
     "execution_count": 210,
     "metadata": {},
     "output_type": "execute_result"
    }
   ],
   "source": [
    "sum(y_pred)/len(y_pred)\n",
    "\n",
    "# this is only slightly better, picking about 0.02 to churn compared to 0.08"
   ]
  },
  {
   "cell_type": "code",
   "execution_count": 218,
   "metadata": {
    "scrolled": true
   },
   "outputs": [
    {
     "name": "stderr",
     "output_type": "stream",
     "text": [
      "exception calling callback for <Future at 0x7f7edee216d0 state=finished raised TerminatedWorkerError>\n",
      "Traceback (most recent call last):\n",
      "  File \"/Users/patrickstarvaggi/opt/anaconda3/lib/python3.8/site-packages/joblib/externals/loky/_base.py\", line 625, in _invoke_callbacks\n",
      "    callback(self)\n",
      "  File \"/Users/patrickstarvaggi/opt/anaconda3/lib/python3.8/site-packages/joblib/parallel.py\", line 347, in __call__\n",
      "    self.parallel.dispatch_next()\n",
      "  File \"/Users/patrickstarvaggi/opt/anaconda3/lib/python3.8/site-packages/joblib/parallel.py\", line 780, in dispatch_next\n",
      "    if not self.dispatch_one_batch(self._original_iterator):\n",
      "  File \"/Users/patrickstarvaggi/opt/anaconda3/lib/python3.8/site-packages/joblib/parallel.py\", line 847, in dispatch_one_batch\n",
      "    self._dispatch(tasks)\n",
      "  File \"/Users/patrickstarvaggi/opt/anaconda3/lib/python3.8/site-packages/joblib/parallel.py\", line 765, in _dispatch\n",
      "    job = self._backend.apply_async(batch, callback=cb)\n",
      "  File \"/Users/patrickstarvaggi/opt/anaconda3/lib/python3.8/site-packages/joblib/_parallel_backends.py\", line 531, in apply_async\n",
      "    future = self._workers.submit(SafeFunction(func))\n",
      "  File \"/Users/patrickstarvaggi/opt/anaconda3/lib/python3.8/site-packages/joblib/externals/loky/reusable_executor.py\", line 177, in submit\n",
      "    return super(_ReusablePoolExecutor, self).submit(\n",
      "  File \"/Users/patrickstarvaggi/opt/anaconda3/lib/python3.8/site-packages/joblib/externals/loky/process_executor.py\", line 1102, in submit\n",
      "    raise self._flags.broken\n",
      "joblib.externals.loky.process_executor.TerminatedWorkerError: A worker process managed by the executor was unexpectedly terminated. This could be caused by a segmentation fault while calling the function or by an excessive memory usage causing the Operating System to kill the worker.\n",
      "\n",
      "The exit codes of the workers are {SIGABRT(-6), SIGABRT(-6), SIGABRT(-6), SIGABRT(-6), SIGABRT(-6), SIGABRT(-6), SIGABRT(-6), SIGABRT(-6), SIGABRT(-6), SIGABRT(-6), SIGABRT(-6), SIGABRT(-6)}\n"
     ]
    },
    {
     "ename": "TerminatedWorkerError",
     "evalue": "A worker process managed by the executor was unexpectedly terminated. This could be caused by a segmentation fault while calling the function or by an excessive memory usage causing the Operating System to kill the worker.\n\nThe exit codes of the workers are {SIGABRT(-6), SIGABRT(-6), SIGABRT(-6), SIGABRT(-6), SIGABRT(-6), SIGABRT(-6), SIGABRT(-6), SIGABRT(-6), SIGABRT(-6), SIGABRT(-6), SIGABRT(-6), SIGABRT(-6)}",
     "output_type": "error",
     "traceback": [
      "\u001b[0;31m---------------------------------------------------------------------------\u001b[0m",
      "\u001b[0;31mTerminatedWorkerError\u001b[0m                     Traceback (most recent call last)",
      "\u001b[0;32m<timed eval>\u001b[0m in \u001b[0;36m<module>\u001b[0;34m\u001b[0m\n",
      "\u001b[0;32m~/opt/anaconda3/lib/python3.8/site-packages/sklearn/utils/validation.py\u001b[0m in \u001b[0;36minner_f\u001b[0;34m(*args, **kwargs)\u001b[0m\n\u001b[1;32m     71\u001b[0m                           FutureWarning)\n\u001b[1;32m     72\u001b[0m         \u001b[0mkwargs\u001b[0m\u001b[0;34m.\u001b[0m\u001b[0mupdate\u001b[0m\u001b[0;34m(\u001b[0m\u001b[0;34m{\u001b[0m\u001b[0mk\u001b[0m\u001b[0;34m:\u001b[0m \u001b[0marg\u001b[0m \u001b[0;32mfor\u001b[0m \u001b[0mk\u001b[0m\u001b[0;34m,\u001b[0m \u001b[0marg\u001b[0m \u001b[0;32min\u001b[0m \u001b[0mzip\u001b[0m\u001b[0;34m(\u001b[0m\u001b[0msig\u001b[0m\u001b[0;34m.\u001b[0m\u001b[0mparameters\u001b[0m\u001b[0;34m,\u001b[0m \u001b[0margs\u001b[0m\u001b[0;34m)\u001b[0m\u001b[0;34m}\u001b[0m\u001b[0;34m)\u001b[0m\u001b[0;34m\u001b[0m\u001b[0;34m\u001b[0m\u001b[0m\n\u001b[0;32m---> 73\u001b[0;31m         \u001b[0;32mreturn\u001b[0m \u001b[0mf\u001b[0m\u001b[0;34m(\u001b[0m\u001b[0;34m**\u001b[0m\u001b[0mkwargs\u001b[0m\u001b[0;34m)\u001b[0m\u001b[0;34m\u001b[0m\u001b[0;34m\u001b[0m\u001b[0m\n\u001b[0m\u001b[1;32m     74\u001b[0m     \u001b[0;32mreturn\u001b[0m \u001b[0minner_f\u001b[0m\u001b[0;34m\u001b[0m\u001b[0;34m\u001b[0m\u001b[0m\n\u001b[1;32m     75\u001b[0m \u001b[0;34m\u001b[0m\u001b[0m\n",
      "\u001b[0;32m~/opt/anaconda3/lib/python3.8/site-packages/sklearn/model_selection/_search.py\u001b[0m in \u001b[0;36mfit\u001b[0;34m(self, X, y, groups, **fit_params)\u001b[0m\n\u001b[1;32m    734\u001b[0m                 \u001b[0;32mreturn\u001b[0m \u001b[0mresults\u001b[0m\u001b[0;34m\u001b[0m\u001b[0;34m\u001b[0m\u001b[0m\n\u001b[1;32m    735\u001b[0m \u001b[0;34m\u001b[0m\u001b[0m\n\u001b[0;32m--> 736\u001b[0;31m             \u001b[0mself\u001b[0m\u001b[0;34m.\u001b[0m\u001b[0m_run_search\u001b[0m\u001b[0;34m(\u001b[0m\u001b[0mevaluate_candidates\u001b[0m\u001b[0;34m)\u001b[0m\u001b[0;34m\u001b[0m\u001b[0;34m\u001b[0m\u001b[0m\n\u001b[0m\u001b[1;32m    737\u001b[0m \u001b[0;34m\u001b[0m\u001b[0m\n\u001b[1;32m    738\u001b[0m         \u001b[0;31m# For multi-metric evaluation, store the best_index_, best_params_ and\u001b[0m\u001b[0;34m\u001b[0m\u001b[0;34m\u001b[0m\u001b[0;34m\u001b[0m\u001b[0m\n",
      "\u001b[0;32m~/opt/anaconda3/lib/python3.8/site-packages/sklearn/model_selection/_search.py\u001b[0m in \u001b[0;36m_run_search\u001b[0;34m(self, evaluate_candidates)\u001b[0m\n\u001b[1;32m   1186\u001b[0m     \u001b[0;32mdef\u001b[0m \u001b[0m_run_search\u001b[0m\u001b[0;34m(\u001b[0m\u001b[0mself\u001b[0m\u001b[0;34m,\u001b[0m \u001b[0mevaluate_candidates\u001b[0m\u001b[0;34m)\u001b[0m\u001b[0;34m:\u001b[0m\u001b[0;34m\u001b[0m\u001b[0;34m\u001b[0m\u001b[0m\n\u001b[1;32m   1187\u001b[0m         \u001b[0;34m\"\"\"Search all candidates in param_grid\"\"\"\u001b[0m\u001b[0;34m\u001b[0m\u001b[0;34m\u001b[0m\u001b[0m\n\u001b[0;32m-> 1188\u001b[0;31m         \u001b[0mevaluate_candidates\u001b[0m\u001b[0;34m(\u001b[0m\u001b[0mParameterGrid\u001b[0m\u001b[0;34m(\u001b[0m\u001b[0mself\u001b[0m\u001b[0;34m.\u001b[0m\u001b[0mparam_grid\u001b[0m\u001b[0;34m)\u001b[0m\u001b[0;34m)\u001b[0m\u001b[0;34m\u001b[0m\u001b[0;34m\u001b[0m\u001b[0m\n\u001b[0m\u001b[1;32m   1189\u001b[0m \u001b[0;34m\u001b[0m\u001b[0m\n\u001b[1;32m   1190\u001b[0m \u001b[0;34m\u001b[0m\u001b[0m\n",
      "\u001b[0;32m~/opt/anaconda3/lib/python3.8/site-packages/sklearn/model_selection/_search.py\u001b[0m in \u001b[0;36mevaluate_candidates\u001b[0;34m(candidate_params)\u001b[0m\n\u001b[1;32m    706\u001b[0m                               n_splits, n_candidates, n_candidates * n_splits))\n\u001b[1;32m    707\u001b[0m \u001b[0;34m\u001b[0m\u001b[0m\n\u001b[0;32m--> 708\u001b[0;31m                 out = parallel(delayed(_fit_and_score)(clone(base_estimator),\n\u001b[0m\u001b[1;32m    709\u001b[0m                                                        \u001b[0mX\u001b[0m\u001b[0;34m,\u001b[0m \u001b[0my\u001b[0m\u001b[0;34m,\u001b[0m\u001b[0;34m\u001b[0m\u001b[0;34m\u001b[0m\u001b[0m\n\u001b[1;32m    710\u001b[0m                                                        \u001b[0mtrain\u001b[0m\u001b[0;34m=\u001b[0m\u001b[0mtrain\u001b[0m\u001b[0;34m,\u001b[0m \u001b[0mtest\u001b[0m\u001b[0;34m=\u001b[0m\u001b[0mtest\u001b[0m\u001b[0;34m,\u001b[0m\u001b[0;34m\u001b[0m\u001b[0;34m\u001b[0m\u001b[0m\n",
      "\u001b[0;32m~/opt/anaconda3/lib/python3.8/site-packages/joblib/parallel.py\u001b[0m in \u001b[0;36m__call__\u001b[0;34m(self, iterable)\u001b[0m\n\u001b[1;32m   1040\u001b[0m \u001b[0;34m\u001b[0m\u001b[0m\n\u001b[1;32m   1041\u001b[0m             \u001b[0;32mwith\u001b[0m \u001b[0mself\u001b[0m\u001b[0;34m.\u001b[0m\u001b[0m_backend\u001b[0m\u001b[0;34m.\u001b[0m\u001b[0mretrieval_context\u001b[0m\u001b[0;34m(\u001b[0m\u001b[0;34m)\u001b[0m\u001b[0;34m:\u001b[0m\u001b[0;34m\u001b[0m\u001b[0;34m\u001b[0m\u001b[0m\n\u001b[0;32m-> 1042\u001b[0;31m                 \u001b[0mself\u001b[0m\u001b[0;34m.\u001b[0m\u001b[0mretrieve\u001b[0m\u001b[0;34m(\u001b[0m\u001b[0;34m)\u001b[0m\u001b[0;34m\u001b[0m\u001b[0;34m\u001b[0m\u001b[0m\n\u001b[0m\u001b[1;32m   1043\u001b[0m             \u001b[0;31m# Make sure that we get a last message telling us we are done\u001b[0m\u001b[0;34m\u001b[0m\u001b[0;34m\u001b[0m\u001b[0;34m\u001b[0m\u001b[0m\n\u001b[1;32m   1044\u001b[0m             \u001b[0melapsed_time\u001b[0m \u001b[0;34m=\u001b[0m \u001b[0mtime\u001b[0m\u001b[0;34m.\u001b[0m\u001b[0mtime\u001b[0m\u001b[0;34m(\u001b[0m\u001b[0;34m)\u001b[0m \u001b[0;34m-\u001b[0m \u001b[0mself\u001b[0m\u001b[0;34m.\u001b[0m\u001b[0m_start_time\u001b[0m\u001b[0;34m\u001b[0m\u001b[0;34m\u001b[0m\u001b[0m\n",
      "\u001b[0;32m~/opt/anaconda3/lib/python3.8/site-packages/joblib/parallel.py\u001b[0m in \u001b[0;36mretrieve\u001b[0;34m(self)\u001b[0m\n\u001b[1;32m    919\u001b[0m             \u001b[0;32mtry\u001b[0m\u001b[0;34m:\u001b[0m\u001b[0;34m\u001b[0m\u001b[0;34m\u001b[0m\u001b[0m\n\u001b[1;32m    920\u001b[0m                 \u001b[0;32mif\u001b[0m \u001b[0mgetattr\u001b[0m\u001b[0;34m(\u001b[0m\u001b[0mself\u001b[0m\u001b[0;34m.\u001b[0m\u001b[0m_backend\u001b[0m\u001b[0;34m,\u001b[0m \u001b[0;34m'supports_timeout'\u001b[0m\u001b[0;34m,\u001b[0m \u001b[0;32mFalse\u001b[0m\u001b[0;34m)\u001b[0m\u001b[0;34m:\u001b[0m\u001b[0;34m\u001b[0m\u001b[0;34m\u001b[0m\u001b[0m\n\u001b[0;32m--> 921\u001b[0;31m                     \u001b[0mself\u001b[0m\u001b[0;34m.\u001b[0m\u001b[0m_output\u001b[0m\u001b[0;34m.\u001b[0m\u001b[0mextend\u001b[0m\u001b[0;34m(\u001b[0m\u001b[0mjob\u001b[0m\u001b[0;34m.\u001b[0m\u001b[0mget\u001b[0m\u001b[0;34m(\u001b[0m\u001b[0mtimeout\u001b[0m\u001b[0;34m=\u001b[0m\u001b[0mself\u001b[0m\u001b[0;34m.\u001b[0m\u001b[0mtimeout\u001b[0m\u001b[0;34m)\u001b[0m\u001b[0;34m)\u001b[0m\u001b[0;34m\u001b[0m\u001b[0;34m\u001b[0m\u001b[0m\n\u001b[0m\u001b[1;32m    922\u001b[0m                 \u001b[0;32melse\u001b[0m\u001b[0;34m:\u001b[0m\u001b[0;34m\u001b[0m\u001b[0;34m\u001b[0m\u001b[0m\n\u001b[1;32m    923\u001b[0m                     \u001b[0mself\u001b[0m\u001b[0;34m.\u001b[0m\u001b[0m_output\u001b[0m\u001b[0;34m.\u001b[0m\u001b[0mextend\u001b[0m\u001b[0;34m(\u001b[0m\u001b[0mjob\u001b[0m\u001b[0;34m.\u001b[0m\u001b[0mget\u001b[0m\u001b[0;34m(\u001b[0m\u001b[0;34m)\u001b[0m\u001b[0;34m)\u001b[0m\u001b[0;34m\u001b[0m\u001b[0;34m\u001b[0m\u001b[0m\n",
      "\u001b[0;32m~/opt/anaconda3/lib/python3.8/site-packages/joblib/_parallel_backends.py\u001b[0m in \u001b[0;36mwrap_future_result\u001b[0;34m(future, timeout)\u001b[0m\n\u001b[1;32m    540\u001b[0m         AsyncResults.get from multiprocessing.\"\"\"\n\u001b[1;32m    541\u001b[0m         \u001b[0;32mtry\u001b[0m\u001b[0;34m:\u001b[0m\u001b[0;34m\u001b[0m\u001b[0;34m\u001b[0m\u001b[0m\n\u001b[0;32m--> 542\u001b[0;31m             \u001b[0;32mreturn\u001b[0m \u001b[0mfuture\u001b[0m\u001b[0;34m.\u001b[0m\u001b[0mresult\u001b[0m\u001b[0;34m(\u001b[0m\u001b[0mtimeout\u001b[0m\u001b[0;34m=\u001b[0m\u001b[0mtimeout\u001b[0m\u001b[0;34m)\u001b[0m\u001b[0;34m\u001b[0m\u001b[0;34m\u001b[0m\u001b[0m\n\u001b[0m\u001b[1;32m    543\u001b[0m         \u001b[0;32mexcept\u001b[0m \u001b[0mCfTimeoutError\u001b[0m \u001b[0;32mas\u001b[0m \u001b[0me\u001b[0m\u001b[0;34m:\u001b[0m\u001b[0;34m\u001b[0m\u001b[0;34m\u001b[0m\u001b[0m\n\u001b[1;32m    544\u001b[0m             \u001b[0;32mraise\u001b[0m \u001b[0mTimeoutError\u001b[0m \u001b[0;32mfrom\u001b[0m \u001b[0me\u001b[0m\u001b[0;34m\u001b[0m\u001b[0;34m\u001b[0m\u001b[0m\n",
      "\u001b[0;32m~/opt/anaconda3/lib/python3.8/concurrent/futures/_base.py\u001b[0m in \u001b[0;36mresult\u001b[0;34m(self, timeout)\u001b[0m\n\u001b[1;32m    437\u001b[0m                 \u001b[0;32mraise\u001b[0m \u001b[0mCancelledError\u001b[0m\u001b[0;34m(\u001b[0m\u001b[0;34m)\u001b[0m\u001b[0;34m\u001b[0m\u001b[0;34m\u001b[0m\u001b[0m\n\u001b[1;32m    438\u001b[0m             \u001b[0;32melif\u001b[0m \u001b[0mself\u001b[0m\u001b[0;34m.\u001b[0m\u001b[0m_state\u001b[0m \u001b[0;34m==\u001b[0m \u001b[0mFINISHED\u001b[0m\u001b[0;34m:\u001b[0m\u001b[0;34m\u001b[0m\u001b[0;34m\u001b[0m\u001b[0m\n\u001b[0;32m--> 439\u001b[0;31m                 \u001b[0;32mreturn\u001b[0m \u001b[0mself\u001b[0m\u001b[0;34m.\u001b[0m\u001b[0m__get_result\u001b[0m\u001b[0;34m(\u001b[0m\u001b[0;34m)\u001b[0m\u001b[0;34m\u001b[0m\u001b[0;34m\u001b[0m\u001b[0m\n\u001b[0m\u001b[1;32m    440\u001b[0m             \u001b[0;32melse\u001b[0m\u001b[0;34m:\u001b[0m\u001b[0;34m\u001b[0m\u001b[0;34m\u001b[0m\u001b[0m\n\u001b[1;32m    441\u001b[0m                 \u001b[0;32mraise\u001b[0m \u001b[0mTimeoutError\u001b[0m\u001b[0;34m(\u001b[0m\u001b[0;34m)\u001b[0m\u001b[0;34m\u001b[0m\u001b[0;34m\u001b[0m\u001b[0m\n",
      "\u001b[0;32m~/opt/anaconda3/lib/python3.8/concurrent/futures/_base.py\u001b[0m in \u001b[0;36m__get_result\u001b[0;34m(self)\u001b[0m\n\u001b[1;32m    386\u001b[0m     \u001b[0;32mdef\u001b[0m \u001b[0m__get_result\u001b[0m\u001b[0;34m(\u001b[0m\u001b[0mself\u001b[0m\u001b[0;34m)\u001b[0m\u001b[0;34m:\u001b[0m\u001b[0;34m\u001b[0m\u001b[0;34m\u001b[0m\u001b[0m\n\u001b[1;32m    387\u001b[0m         \u001b[0;32mif\u001b[0m \u001b[0mself\u001b[0m\u001b[0;34m.\u001b[0m\u001b[0m_exception\u001b[0m\u001b[0;34m:\u001b[0m\u001b[0;34m\u001b[0m\u001b[0;34m\u001b[0m\u001b[0m\n\u001b[0;32m--> 388\u001b[0;31m             \u001b[0;32mraise\u001b[0m \u001b[0mself\u001b[0m\u001b[0;34m.\u001b[0m\u001b[0m_exception\u001b[0m\u001b[0;34m\u001b[0m\u001b[0;34m\u001b[0m\u001b[0m\n\u001b[0m\u001b[1;32m    389\u001b[0m         \u001b[0;32melse\u001b[0m\u001b[0;34m:\u001b[0m\u001b[0;34m\u001b[0m\u001b[0;34m\u001b[0m\u001b[0m\n\u001b[1;32m    390\u001b[0m             \u001b[0;32mreturn\u001b[0m \u001b[0mself\u001b[0m\u001b[0;34m.\u001b[0m\u001b[0m_result\u001b[0m\u001b[0;34m\u001b[0m\u001b[0;34m\u001b[0m\u001b[0m\n",
      "\u001b[0;32m~/opt/anaconda3/lib/python3.8/site-packages/joblib/externals/loky/_base.py\u001b[0m in \u001b[0;36m_invoke_callbacks\u001b[0;34m(self)\u001b[0m\n\u001b[1;32m    623\u001b[0m         \u001b[0;32mfor\u001b[0m \u001b[0mcallback\u001b[0m \u001b[0;32min\u001b[0m \u001b[0mself\u001b[0m\u001b[0;34m.\u001b[0m\u001b[0m_done_callbacks\u001b[0m\u001b[0;34m:\u001b[0m\u001b[0;34m\u001b[0m\u001b[0;34m\u001b[0m\u001b[0m\n\u001b[1;32m    624\u001b[0m             \u001b[0;32mtry\u001b[0m\u001b[0;34m:\u001b[0m\u001b[0;34m\u001b[0m\u001b[0;34m\u001b[0m\u001b[0m\n\u001b[0;32m--> 625\u001b[0;31m                 \u001b[0mcallback\u001b[0m\u001b[0;34m(\u001b[0m\u001b[0mself\u001b[0m\u001b[0;34m)\u001b[0m\u001b[0;34m\u001b[0m\u001b[0;34m\u001b[0m\u001b[0m\n\u001b[0m\u001b[1;32m    626\u001b[0m             \u001b[0;32mexcept\u001b[0m \u001b[0mBaseException\u001b[0m\u001b[0;34m:\u001b[0m\u001b[0;34m\u001b[0m\u001b[0;34m\u001b[0m\u001b[0m\n\u001b[1;32m    627\u001b[0m                 \u001b[0mLOGGER\u001b[0m\u001b[0;34m.\u001b[0m\u001b[0mexception\u001b[0m\u001b[0;34m(\u001b[0m\u001b[0;34m'exception calling callback for %r'\u001b[0m\u001b[0;34m,\u001b[0m \u001b[0mself\u001b[0m\u001b[0;34m)\u001b[0m\u001b[0;34m\u001b[0m\u001b[0;34m\u001b[0m\u001b[0m\n",
      "\u001b[0;32m~/opt/anaconda3/lib/python3.8/site-packages/joblib/parallel.py\u001b[0m in \u001b[0;36m__call__\u001b[0;34m(self, out)\u001b[0m\n\u001b[1;32m    345\u001b[0m         \u001b[0;32mwith\u001b[0m \u001b[0mself\u001b[0m\u001b[0;34m.\u001b[0m\u001b[0mparallel\u001b[0m\u001b[0;34m.\u001b[0m\u001b[0m_lock\u001b[0m\u001b[0;34m:\u001b[0m\u001b[0;34m\u001b[0m\u001b[0;34m\u001b[0m\u001b[0m\n\u001b[1;32m    346\u001b[0m             \u001b[0;32mif\u001b[0m \u001b[0mself\u001b[0m\u001b[0;34m.\u001b[0m\u001b[0mparallel\u001b[0m\u001b[0;34m.\u001b[0m\u001b[0m_original_iterator\u001b[0m \u001b[0;32mis\u001b[0m \u001b[0;32mnot\u001b[0m \u001b[0;32mNone\u001b[0m\u001b[0;34m:\u001b[0m\u001b[0;34m\u001b[0m\u001b[0;34m\u001b[0m\u001b[0m\n\u001b[0;32m--> 347\u001b[0;31m                 \u001b[0mself\u001b[0m\u001b[0;34m.\u001b[0m\u001b[0mparallel\u001b[0m\u001b[0;34m.\u001b[0m\u001b[0mdispatch_next\u001b[0m\u001b[0;34m(\u001b[0m\u001b[0;34m)\u001b[0m\u001b[0;34m\u001b[0m\u001b[0;34m\u001b[0m\u001b[0m\n\u001b[0m\u001b[1;32m    348\u001b[0m \u001b[0;34m\u001b[0m\u001b[0m\n\u001b[1;32m    349\u001b[0m \u001b[0;34m\u001b[0m\u001b[0m\n",
      "\u001b[0;32m~/opt/anaconda3/lib/python3.8/site-packages/joblib/parallel.py\u001b[0m in \u001b[0;36mdispatch_next\u001b[0;34m(self)\u001b[0m\n\u001b[1;32m    778\u001b[0m \u001b[0;34m\u001b[0m\u001b[0m\n\u001b[1;32m    779\u001b[0m         \"\"\"\n\u001b[0;32m--> 780\u001b[0;31m         \u001b[0;32mif\u001b[0m \u001b[0;32mnot\u001b[0m \u001b[0mself\u001b[0m\u001b[0;34m.\u001b[0m\u001b[0mdispatch_one_batch\u001b[0m\u001b[0;34m(\u001b[0m\u001b[0mself\u001b[0m\u001b[0;34m.\u001b[0m\u001b[0m_original_iterator\u001b[0m\u001b[0;34m)\u001b[0m\u001b[0;34m:\u001b[0m\u001b[0;34m\u001b[0m\u001b[0;34m\u001b[0m\u001b[0m\n\u001b[0m\u001b[1;32m    781\u001b[0m             \u001b[0mself\u001b[0m\u001b[0;34m.\u001b[0m\u001b[0m_iterating\u001b[0m \u001b[0;34m=\u001b[0m \u001b[0;32mFalse\u001b[0m\u001b[0;34m\u001b[0m\u001b[0;34m\u001b[0m\u001b[0m\n\u001b[1;32m    782\u001b[0m             \u001b[0mself\u001b[0m\u001b[0;34m.\u001b[0m\u001b[0m_original_iterator\u001b[0m \u001b[0;34m=\u001b[0m \u001b[0;32mNone\u001b[0m\u001b[0;34m\u001b[0m\u001b[0;34m\u001b[0m\u001b[0m\n",
      "\u001b[0;32m~/opt/anaconda3/lib/python3.8/site-packages/joblib/parallel.py\u001b[0m in \u001b[0;36mdispatch_one_batch\u001b[0;34m(self, iterator)\u001b[0m\n\u001b[1;32m    845\u001b[0m                 \u001b[0;32mreturn\u001b[0m \u001b[0;32mFalse\u001b[0m\u001b[0;34m\u001b[0m\u001b[0;34m\u001b[0m\u001b[0m\n\u001b[1;32m    846\u001b[0m             \u001b[0;32melse\u001b[0m\u001b[0;34m:\u001b[0m\u001b[0;34m\u001b[0m\u001b[0;34m\u001b[0m\u001b[0m\n\u001b[0;32m--> 847\u001b[0;31m                 \u001b[0mself\u001b[0m\u001b[0;34m.\u001b[0m\u001b[0m_dispatch\u001b[0m\u001b[0;34m(\u001b[0m\u001b[0mtasks\u001b[0m\u001b[0;34m)\u001b[0m\u001b[0;34m\u001b[0m\u001b[0;34m\u001b[0m\u001b[0m\n\u001b[0m\u001b[1;32m    848\u001b[0m                 \u001b[0;32mreturn\u001b[0m \u001b[0;32mTrue\u001b[0m\u001b[0;34m\u001b[0m\u001b[0;34m\u001b[0m\u001b[0m\n\u001b[1;32m    849\u001b[0m \u001b[0;34m\u001b[0m\u001b[0m\n",
      "\u001b[0;32m~/opt/anaconda3/lib/python3.8/site-packages/joblib/parallel.py\u001b[0m in \u001b[0;36m_dispatch\u001b[0;34m(self, batch)\u001b[0m\n\u001b[1;32m    763\u001b[0m         \u001b[0;32mwith\u001b[0m \u001b[0mself\u001b[0m\u001b[0;34m.\u001b[0m\u001b[0m_lock\u001b[0m\u001b[0;34m:\u001b[0m\u001b[0;34m\u001b[0m\u001b[0;34m\u001b[0m\u001b[0m\n\u001b[1;32m    764\u001b[0m             \u001b[0mjob_idx\u001b[0m \u001b[0;34m=\u001b[0m \u001b[0mlen\u001b[0m\u001b[0;34m(\u001b[0m\u001b[0mself\u001b[0m\u001b[0;34m.\u001b[0m\u001b[0m_jobs\u001b[0m\u001b[0;34m)\u001b[0m\u001b[0;34m\u001b[0m\u001b[0;34m\u001b[0m\u001b[0m\n\u001b[0;32m--> 765\u001b[0;31m             \u001b[0mjob\u001b[0m \u001b[0;34m=\u001b[0m \u001b[0mself\u001b[0m\u001b[0;34m.\u001b[0m\u001b[0m_backend\u001b[0m\u001b[0;34m.\u001b[0m\u001b[0mapply_async\u001b[0m\u001b[0;34m(\u001b[0m\u001b[0mbatch\u001b[0m\u001b[0;34m,\u001b[0m \u001b[0mcallback\u001b[0m\u001b[0;34m=\u001b[0m\u001b[0mcb\u001b[0m\u001b[0;34m)\u001b[0m\u001b[0;34m\u001b[0m\u001b[0;34m\u001b[0m\u001b[0m\n\u001b[0m\u001b[1;32m    766\u001b[0m             \u001b[0;31m# A job can complete so quickly than its callback is\u001b[0m\u001b[0;34m\u001b[0m\u001b[0;34m\u001b[0m\u001b[0;34m\u001b[0m\u001b[0m\n\u001b[1;32m    767\u001b[0m             \u001b[0;31m# called before we get here, causing self._jobs to\u001b[0m\u001b[0;34m\u001b[0m\u001b[0;34m\u001b[0m\u001b[0;34m\u001b[0m\u001b[0m\n",
      "\u001b[0;32m~/opt/anaconda3/lib/python3.8/site-packages/joblib/_parallel_backends.py\u001b[0m in \u001b[0;36mapply_async\u001b[0;34m(self, func, callback)\u001b[0m\n\u001b[1;32m    529\u001b[0m     \u001b[0;32mdef\u001b[0m \u001b[0mapply_async\u001b[0m\u001b[0;34m(\u001b[0m\u001b[0mself\u001b[0m\u001b[0;34m,\u001b[0m \u001b[0mfunc\u001b[0m\u001b[0;34m,\u001b[0m \u001b[0mcallback\u001b[0m\u001b[0;34m=\u001b[0m\u001b[0;32mNone\u001b[0m\u001b[0;34m)\u001b[0m\u001b[0;34m:\u001b[0m\u001b[0;34m\u001b[0m\u001b[0;34m\u001b[0m\u001b[0m\n\u001b[1;32m    530\u001b[0m         \u001b[0;34m\"\"\"Schedule a func to be run\"\"\"\u001b[0m\u001b[0;34m\u001b[0m\u001b[0;34m\u001b[0m\u001b[0m\n\u001b[0;32m--> 531\u001b[0;31m         \u001b[0mfuture\u001b[0m \u001b[0;34m=\u001b[0m \u001b[0mself\u001b[0m\u001b[0;34m.\u001b[0m\u001b[0m_workers\u001b[0m\u001b[0;34m.\u001b[0m\u001b[0msubmit\u001b[0m\u001b[0;34m(\u001b[0m\u001b[0mSafeFunction\u001b[0m\u001b[0;34m(\u001b[0m\u001b[0mfunc\u001b[0m\u001b[0;34m)\u001b[0m\u001b[0;34m)\u001b[0m\u001b[0;34m\u001b[0m\u001b[0;34m\u001b[0m\u001b[0m\n\u001b[0m\u001b[1;32m    532\u001b[0m         \u001b[0mfuture\u001b[0m\u001b[0;34m.\u001b[0m\u001b[0mget\u001b[0m \u001b[0;34m=\u001b[0m \u001b[0mfunctools\u001b[0m\u001b[0;34m.\u001b[0m\u001b[0mpartial\u001b[0m\u001b[0;34m(\u001b[0m\u001b[0mself\u001b[0m\u001b[0;34m.\u001b[0m\u001b[0mwrap_future_result\u001b[0m\u001b[0;34m,\u001b[0m \u001b[0mfuture\u001b[0m\u001b[0;34m)\u001b[0m\u001b[0;34m\u001b[0m\u001b[0;34m\u001b[0m\u001b[0m\n\u001b[1;32m    533\u001b[0m         \u001b[0;32mif\u001b[0m \u001b[0mcallback\u001b[0m \u001b[0;32mis\u001b[0m \u001b[0;32mnot\u001b[0m \u001b[0;32mNone\u001b[0m\u001b[0;34m:\u001b[0m\u001b[0;34m\u001b[0m\u001b[0;34m\u001b[0m\u001b[0m\n",
      "\u001b[0;32m~/opt/anaconda3/lib/python3.8/site-packages/joblib/externals/loky/reusable_executor.py\u001b[0m in \u001b[0;36msubmit\u001b[0;34m(self, fn, *args, **kwargs)\u001b[0m\n\u001b[1;32m    175\u001b[0m     \u001b[0;32mdef\u001b[0m \u001b[0msubmit\u001b[0m\u001b[0;34m(\u001b[0m\u001b[0mself\u001b[0m\u001b[0;34m,\u001b[0m \u001b[0mfn\u001b[0m\u001b[0;34m,\u001b[0m \u001b[0;34m*\u001b[0m\u001b[0margs\u001b[0m\u001b[0;34m,\u001b[0m \u001b[0;34m**\u001b[0m\u001b[0mkwargs\u001b[0m\u001b[0;34m)\u001b[0m\u001b[0;34m:\u001b[0m\u001b[0;34m\u001b[0m\u001b[0;34m\u001b[0m\u001b[0m\n\u001b[1;32m    176\u001b[0m         \u001b[0;32mwith\u001b[0m \u001b[0mself\u001b[0m\u001b[0;34m.\u001b[0m\u001b[0m_submit_resize_lock\u001b[0m\u001b[0;34m:\u001b[0m\u001b[0;34m\u001b[0m\u001b[0;34m\u001b[0m\u001b[0m\n\u001b[0;32m--> 177\u001b[0;31m             return super(_ReusablePoolExecutor, self).submit(\n\u001b[0m\u001b[1;32m    178\u001b[0m                 fn, *args, **kwargs)\n\u001b[1;32m    179\u001b[0m \u001b[0;34m\u001b[0m\u001b[0m\n",
      "\u001b[0;32m~/opt/anaconda3/lib/python3.8/site-packages/joblib/externals/loky/process_executor.py\u001b[0m in \u001b[0;36msubmit\u001b[0;34m(self, fn, *args, **kwargs)\u001b[0m\n\u001b[1;32m   1100\u001b[0m         \u001b[0;32mwith\u001b[0m \u001b[0mself\u001b[0m\u001b[0;34m.\u001b[0m\u001b[0m_flags\u001b[0m\u001b[0;34m.\u001b[0m\u001b[0mshutdown_lock\u001b[0m\u001b[0;34m:\u001b[0m\u001b[0;34m\u001b[0m\u001b[0;34m\u001b[0m\u001b[0m\n\u001b[1;32m   1101\u001b[0m             \u001b[0;32mif\u001b[0m \u001b[0mself\u001b[0m\u001b[0;34m.\u001b[0m\u001b[0m_flags\u001b[0m\u001b[0;34m.\u001b[0m\u001b[0mbroken\u001b[0m \u001b[0;32mis\u001b[0m \u001b[0;32mnot\u001b[0m \u001b[0;32mNone\u001b[0m\u001b[0;34m:\u001b[0m\u001b[0;34m\u001b[0m\u001b[0;34m\u001b[0m\u001b[0m\n\u001b[0;32m-> 1102\u001b[0;31m                 \u001b[0;32mraise\u001b[0m \u001b[0mself\u001b[0m\u001b[0;34m.\u001b[0m\u001b[0m_flags\u001b[0m\u001b[0;34m.\u001b[0m\u001b[0mbroken\u001b[0m\u001b[0;34m\u001b[0m\u001b[0;34m\u001b[0m\u001b[0m\n\u001b[0m\u001b[1;32m   1103\u001b[0m             \u001b[0;32mif\u001b[0m \u001b[0mself\u001b[0m\u001b[0;34m.\u001b[0m\u001b[0m_flags\u001b[0m\u001b[0;34m.\u001b[0m\u001b[0mshutdown\u001b[0m\u001b[0;34m:\u001b[0m\u001b[0;34m\u001b[0m\u001b[0;34m\u001b[0m\u001b[0m\n\u001b[1;32m   1104\u001b[0m                 raise ShutdownExecutorError(\n",
      "\u001b[0;31mTerminatedWorkerError\u001b[0m: A worker process managed by the executor was unexpectedly terminated. This could be caused by a segmentation fault while calling the function or by an excessive memory usage causing the Operating System to kill the worker.\n\nThe exit codes of the workers are {SIGABRT(-6), SIGABRT(-6), SIGABRT(-6), SIGABRT(-6), SIGABRT(-6), SIGABRT(-6), SIGABRT(-6), SIGABRT(-6), SIGABRT(-6), SIGABRT(-6), SIGABRT(-6), SIGABRT(-6)}"
     ]
    }
   ],
   "source": [
    "from sklearn.model_selection import GridSearchCV\n",
    "grid_para_tree = [{\n",
    "    \"criterion\": [\"gini\", \"entropy\"],\n",
    "    \"min_samples_leaf\": range(1, 7),\n",
    "    \"min_samples_split\": np.linspace(start=2, stop=40, num=20, dtype=int)\n",
    "}]\n",
    "rf_users_churn.set_params(random_state=108)\n",
    "grid_search_tree = GridSearchCV(rf_users_churn, grid_para_tree, cv=5, scoring='accuracy', n_jobs=-1)\n",
    "%time grid_search_tree.fit(x_train, y_train)"
   ]
  },
  {
   "cell_type": "code",
   "execution_count": 213,
   "metadata": {},
   "outputs": [],
   "source": [
    "?GridSearchCV"
   ]
  },
  {
   "cell_type": "code",
   "execution_count": 7,
   "metadata": {},
   "outputs": [
    {
     "data": {
      "text/html": [
       "<div>\n",
       "<style scoped>\n",
       "    .dataframe tbody tr th:only-of-type {\n",
       "        vertical-align: middle;\n",
       "    }\n",
       "\n",
       "    .dataframe tbody tr th {\n",
       "        vertical-align: top;\n",
       "    }\n",
       "\n",
       "    .dataframe thead th {\n",
       "        text-align: right;\n",
       "    }\n",
       "</style>\n",
       "<table border=\"1\" class=\"dataframe\">\n",
       "  <thead>\n",
       "    <tr style=\"text-align: right;\">\n",
       "      <th></th>\n",
       "      <th>msno</th>\n",
       "      <th>date</th>\n",
       "      <th>num_25</th>\n",
       "      <th>num_50</th>\n",
       "      <th>num_75</th>\n",
       "      <th>num_985</th>\n",
       "      <th>num_100</th>\n",
       "      <th>num_unq</th>\n",
       "      <th>total_secs</th>\n",
       "      <th>is_churn</th>\n",
       "    </tr>\n",
       "  </thead>\n",
       "  <tbody>\n",
       "    <tr>\n",
       "      <th>0</th>\n",
       "      <td>HlAmwB3IHrDG4ViLtgggCLZOodjpFxLRTFIide0Q0RI=</td>\n",
       "      <td>2017-03-18</td>\n",
       "      <td>44</td>\n",
       "      <td>1</td>\n",
       "      <td>0</td>\n",
       "      <td>2</td>\n",
       "      <td>52</td>\n",
       "      <td>90</td>\n",
       "      <td>13119.719</td>\n",
       "      <td>0</td>\n",
       "    </tr>\n",
       "    <tr>\n",
       "      <th>1</th>\n",
       "      <td>HlAmwB3IHrDG4ViLtgggCLZOodjpFxLRTFIide0Q0RI=</td>\n",
       "      <td>2017-03-02</td>\n",
       "      <td>3</td>\n",
       "      <td>0</td>\n",
       "      <td>0</td>\n",
       "      <td>0</td>\n",
       "      <td>22</td>\n",
       "      <td>10</td>\n",
       "      <td>5917.122</td>\n",
       "      <td>0</td>\n",
       "    </tr>\n",
       "    <tr>\n",
       "      <th>2</th>\n",
       "      <td>HlAmwB3IHrDG4ViLtgggCLZOodjpFxLRTFIide0Q0RI=</td>\n",
       "      <td>2017-03-01</td>\n",
       "      <td>36</td>\n",
       "      <td>2</td>\n",
       "      <td>2</td>\n",
       "      <td>3</td>\n",
       "      <td>52</td>\n",
       "      <td>85</td>\n",
       "      <td>14441.002</td>\n",
       "      <td>0</td>\n",
       "    </tr>\n",
       "    <tr>\n",
       "      <th>3</th>\n",
       "      <td>HlAmwB3IHrDG4ViLtgggCLZOodjpFxLRTFIide0Q0RI=</td>\n",
       "      <td>2017-03-14</td>\n",
       "      <td>54</td>\n",
       "      <td>1</td>\n",
       "      <td>0</td>\n",
       "      <td>0</td>\n",
       "      <td>17</td>\n",
       "      <td>72</td>\n",
       "      <td>4673.450</td>\n",
       "      <td>0</td>\n",
       "    </tr>\n",
       "    <tr>\n",
       "      <th>4</th>\n",
       "      <td>HlAmwB3IHrDG4ViLtgggCLZOodjpFxLRTFIide0Q0RI=</td>\n",
       "      <td>2017-03-05</td>\n",
       "      <td>44</td>\n",
       "      <td>2</td>\n",
       "      <td>1</td>\n",
       "      <td>1</td>\n",
       "      <td>78</td>\n",
       "      <td>105</td>\n",
       "      <td>19538.730</td>\n",
       "      <td>0</td>\n",
       "    </tr>\n",
       "    <tr>\n",
       "      <th>...</th>\n",
       "      <td>...</td>\n",
       "      <td>...</td>\n",
       "      <td>...</td>\n",
       "      <td>...</td>\n",
       "      <td>...</td>\n",
       "      <td>...</td>\n",
       "      <td>...</td>\n",
       "      <td>...</td>\n",
       "      <td>...</td>\n",
       "      <td>...</td>\n",
       "    </tr>\n",
       "    <tr>\n",
       "      <th>277096</th>\n",
       "      <td>2hf10Sovriw85qjbQQHuTQxPowppcp76jfFd7p/DxPk=</td>\n",
       "      <td>2017-03-09</td>\n",
       "      <td>2</td>\n",
       "      <td>2</td>\n",
       "      <td>0</td>\n",
       "      <td>2</td>\n",
       "      <td>0</td>\n",
       "      <td>4</td>\n",
       "      <td>535.824</td>\n",
       "      <td>0</td>\n",
       "    </tr>\n",
       "    <tr>\n",
       "      <th>277097</th>\n",
       "      <td>e2aLR/d+vw/DBFU9CY86vsFGCg4uACmnWWupPJEKJHU=</td>\n",
       "      <td>2017-03-19</td>\n",
       "      <td>5</td>\n",
       "      <td>2</td>\n",
       "      <td>1</td>\n",
       "      <td>0</td>\n",
       "      <td>16</td>\n",
       "      <td>19</td>\n",
       "      <td>3870.407</td>\n",
       "      <td>0</td>\n",
       "    </tr>\n",
       "    <tr>\n",
       "      <th>277098</th>\n",
       "      <td>Z0YeFbZdYXwcMDti2fW+US1QYv3DTDxr9IRNStqVroI=</td>\n",
       "      <td>2017-03-14</td>\n",
       "      <td>4</td>\n",
       "      <td>1</td>\n",
       "      <td>0</td>\n",
       "      <td>0</td>\n",
       "      <td>2</td>\n",
       "      <td>4</td>\n",
       "      <td>836.184</td>\n",
       "      <td>0</td>\n",
       "    </tr>\n",
       "    <tr>\n",
       "      <th>277099</th>\n",
       "      <td>mKm2l7lptuEqXogn7tTqaJGb4pwz5bEgTTAjshuFrZk=</td>\n",
       "      <td>2017-03-31</td>\n",
       "      <td>10</td>\n",
       "      <td>4</td>\n",
       "      <td>0</td>\n",
       "      <td>1</td>\n",
       "      <td>2</td>\n",
       "      <td>14</td>\n",
       "      <td>1522.337</td>\n",
       "      <td>0</td>\n",
       "    </tr>\n",
       "    <tr>\n",
       "      <th>277100</th>\n",
       "      <td>eOGE9XsAQbmZzwLpsuIyoi1tMoy29X/LjXR7YkbgENY=</td>\n",
       "      <td>2017-03-18</td>\n",
       "      <td>0</td>\n",
       "      <td>0</td>\n",
       "      <td>0</td>\n",
       "      <td>1</td>\n",
       "      <td>2</td>\n",
       "      <td>3</td>\n",
       "      <td>575.376</td>\n",
       "      <td>0</td>\n",
       "    </tr>\n",
       "  </tbody>\n",
       "</table>\n",
       "<p>277101 rows × 10 columns</p>\n",
       "</div>"
      ],
      "text/plain": [
       "                                                msno       date  num_25  \\\n",
       "0       HlAmwB3IHrDG4ViLtgggCLZOodjpFxLRTFIide0Q0RI= 2017-03-18      44   \n",
       "1       HlAmwB3IHrDG4ViLtgggCLZOodjpFxLRTFIide0Q0RI= 2017-03-02       3   \n",
       "2       HlAmwB3IHrDG4ViLtgggCLZOodjpFxLRTFIide0Q0RI= 2017-03-01      36   \n",
       "3       HlAmwB3IHrDG4ViLtgggCLZOodjpFxLRTFIide0Q0RI= 2017-03-14      54   \n",
       "4       HlAmwB3IHrDG4ViLtgggCLZOodjpFxLRTFIide0Q0RI= 2017-03-05      44   \n",
       "...                                              ...        ...     ...   \n",
       "277096  2hf10Sovriw85qjbQQHuTQxPowppcp76jfFd7p/DxPk= 2017-03-09       2   \n",
       "277097  e2aLR/d+vw/DBFU9CY86vsFGCg4uACmnWWupPJEKJHU= 2017-03-19       5   \n",
       "277098  Z0YeFbZdYXwcMDti2fW+US1QYv3DTDxr9IRNStqVroI= 2017-03-14       4   \n",
       "277099  mKm2l7lptuEqXogn7tTqaJGb4pwz5bEgTTAjshuFrZk= 2017-03-31      10   \n",
       "277100  eOGE9XsAQbmZzwLpsuIyoi1tMoy29X/LjXR7YkbgENY= 2017-03-18       0   \n",
       "\n",
       "        num_50  num_75  num_985  num_100  num_unq  total_secs  is_churn  \n",
       "0            1       0        2       52       90   13119.719         0  \n",
       "1            0       0        0       22       10    5917.122         0  \n",
       "2            2       2        3       52       85   14441.002         0  \n",
       "3            1       0        0       17       72    4673.450         0  \n",
       "4            2       1        1       78      105   19538.730         0  \n",
       "...        ...     ...      ...      ...      ...         ...       ...  \n",
       "277096       2       0        2        0        4     535.824         0  \n",
       "277097       2       1        0       16       19    3870.407         0  \n",
       "277098       1       0        0        2        4     836.184         0  \n",
       "277099       4       0        1        2       14    1522.337         0  \n",
       "277100       0       0        1        2        3     575.376         0  \n",
       "\n",
       "[277101 rows x 10 columns]"
      ]
     },
     "execution_count": 7,
     "metadata": {},
     "output_type": "execute_result"
    }
   ],
   "source": [
    "users_churn_df"
   ]
  },
  {
   "cell_type": "code",
   "execution_count": 14,
   "metadata": {},
   "outputs": [
    {
     "ename": "NameError",
     "evalue": "name 'is_churn' is not defined",
     "output_type": "error",
     "traceback": [
      "\u001b[0;31m---------------------------------------------------------------------------\u001b[0m",
      "\u001b[0;31mNameError\u001b[0m                                 Traceback (most recent call last)",
      "\u001b[0;32m<ipython-input-14-dcdab6e7c63b>\u001b[0m in \u001b[0;36m<module>\u001b[0;34m\u001b[0m\n\u001b[0;32m----> 1\u001b[0;31m \u001b[0mmembers_transaction_df\u001b[0m\u001b[0;34m[\u001b[0m\u001b[0;34m'is_churn_date'\u001b[0m\u001b[0;34m]\u001b[0m \u001b[0;34m=\u001b[0m \u001b[0mfilter\u001b[0m\u001b[0;34m(\u001b[0m\u001b[0;32mlambda\u001b[0m \u001b[0mx\u001b[0m\u001b[0;34m:\u001b[0m \u001b[0mx\u001b[0m\u001b[0;34m.\u001b[0m\u001b[0mtransaction_date\u001b[0m\u001b[0;34m.\u001b[0m\u001b[0mvalue\u001b[0m\u001b[0;34m,\u001b[0m \u001b[0mis_churn\u001b[0m\u001b[0;34m)\u001b[0m\u001b[0;34m\u001b[0m\u001b[0;34m\u001b[0m\u001b[0m\n\u001b[0m",
      "\u001b[0;31mNameError\u001b[0m: name 'is_churn' is not defined"
     ]
    }
   ],
   "source": [
    "members_transaction_df['is_churn_date'] = filter(lambda x: x.transaction_date.value, is_churn)"
   ]
  },
  {
   "cell_type": "code",
   "execution_count": 16,
   "metadata": {},
   "outputs": [],
   "source": [
    "members_transaction_df = pd.merge(members_df, transact_df, on = 'msno')\n",
    "members_transaction_df = pd.merge(members_transaction_df, churn_df, on = 'msno')"
   ]
  },
  {
   "cell_type": "code",
   "execution_count": 20,
   "metadata": {},
   "outputs": [
    {
     "data": {
      "text/html": [
       "<div>\n",
       "<style scoped>\n",
       "    .dataframe tbody tr th:only-of-type {\n",
       "        vertical-align: middle;\n",
       "    }\n",
       "\n",
       "    .dataframe tbody tr th {\n",
       "        vertical-align: top;\n",
       "    }\n",
       "\n",
       "    .dataframe thead th {\n",
       "        text-align: right;\n",
       "    }\n",
       "</style>\n",
       "<table border=\"1\" class=\"dataframe\">\n",
       "  <thead>\n",
       "    <tr style=\"text-align: right;\">\n",
       "      <th></th>\n",
       "      <th>msno</th>\n",
       "      <th>city</th>\n",
       "      <th>bd</th>\n",
       "      <th>gender</th>\n",
       "      <th>registered_via</th>\n",
       "      <th>registration_init_time</th>\n",
       "      <th>payment_method_id</th>\n",
       "      <th>payment_plan_days</th>\n",
       "      <th>plan_list_price</th>\n",
       "      <th>actual_amount_paid</th>\n",
       "      <th>is_auto_renew</th>\n",
       "      <th>transaction_date</th>\n",
       "      <th>membership_expire_date</th>\n",
       "      <th>is_cancel</th>\n",
       "      <th>is_churn</th>\n",
       "    </tr>\n",
       "  </thead>\n",
       "  <tbody>\n",
       "    <tr>\n",
       "      <th>0</th>\n",
       "      <td>yLkV2gbZ4GLFwqTOXLVHz0VGrMYcgBGgKZ3kj9RiYu8=</td>\n",
       "      <td>4</td>\n",
       "      <td>30</td>\n",
       "      <td>male</td>\n",
       "      <td>9</td>\n",
       "      <td>2011-09-16</td>\n",
       "      <td>39</td>\n",
       "      <td>30</td>\n",
       "      <td>149</td>\n",
       "      <td>149</td>\n",
       "      <td>1</td>\n",
       "      <td>2017-03-31</td>\n",
       "      <td>2017-05-17</td>\n",
       "      <td>0</td>\n",
       "      <td>0</td>\n",
       "    </tr>\n",
       "    <tr>\n",
       "      <th>1</th>\n",
       "      <td>yLkV2gbZ4GLFwqTOXLVHz0VGrMYcgBGgKZ3kj9RiYu8=</td>\n",
       "      <td>4</td>\n",
       "      <td>30</td>\n",
       "      <td>male</td>\n",
       "      <td>9</td>\n",
       "      <td>2011-09-16</td>\n",
       "      <td>39</td>\n",
       "      <td>30</td>\n",
       "      <td>149</td>\n",
       "      <td>149</td>\n",
       "      <td>1</td>\n",
       "      <td>2017-02-28</td>\n",
       "      <td>2017-04-17</td>\n",
       "      <td>0</td>\n",
       "      <td>0</td>\n",
       "    </tr>\n",
       "    <tr>\n",
       "      <th>2</th>\n",
       "      <td>oQCja0OLsoCRoltknOOcdk99Eb+GzOU3ck9Rkhk8ixY=</td>\n",
       "      <td>1</td>\n",
       "      <td>0</td>\n",
       "      <td>NaN</td>\n",
       "      <td>7</td>\n",
       "      <td>2017-01-01</td>\n",
       "      <td>41</td>\n",
       "      <td>30</td>\n",
       "      <td>99</td>\n",
       "      <td>99</td>\n",
       "      <td>1</td>\n",
       "      <td>2017-03-31</td>\n",
       "      <td>2017-04-30</td>\n",
       "      <td>0</td>\n",
       "      <td>0</td>\n",
       "    </tr>\n",
       "    <tr>\n",
       "      <th>3</th>\n",
       "      <td>14UsNUmAV8hPhH20iItmTwdj4WuPdSgl+IFxxYv2UAs=</td>\n",
       "      <td>13</td>\n",
       "      <td>26</td>\n",
       "      <td>female</td>\n",
       "      <td>9</td>\n",
       "      <td>2006-09-04</td>\n",
       "      <td>39</td>\n",
       "      <td>30</td>\n",
       "      <td>149</td>\n",
       "      <td>149</td>\n",
       "      <td>1</td>\n",
       "      <td>2017-02-28</td>\n",
       "      <td>2017-04-29</td>\n",
       "      <td>0</td>\n",
       "      <td>0</td>\n",
       "    </tr>\n",
       "    <tr>\n",
       "      <th>4</th>\n",
       "      <td>14UsNUmAV8hPhH20iItmTwdj4WuPdSgl+IFxxYv2UAs=</td>\n",
       "      <td>13</td>\n",
       "      <td>26</td>\n",
       "      <td>female</td>\n",
       "      <td>9</td>\n",
       "      <td>2006-09-04</td>\n",
       "      <td>39</td>\n",
       "      <td>30</td>\n",
       "      <td>149</td>\n",
       "      <td>149</td>\n",
       "      <td>1</td>\n",
       "      <td>2017-03-31</td>\n",
       "      <td>2017-05-29</td>\n",
       "      <td>0</td>\n",
       "      <td>0</td>\n",
       "    </tr>\n",
       "    <tr>\n",
       "      <th>...</th>\n",
       "      <td>...</td>\n",
       "      <td>...</td>\n",
       "      <td>...</td>\n",
       "      <td>...</td>\n",
       "      <td>...</td>\n",
       "      <td>...</td>\n",
       "      <td>...</td>\n",
       "      <td>...</td>\n",
       "      <td>...</td>\n",
       "      <td>...</td>\n",
       "      <td>...</td>\n",
       "      <td>...</td>\n",
       "      <td>...</td>\n",
       "      <td>...</td>\n",
       "      <td>...</td>\n",
       "    </tr>\n",
       "    <tr>\n",
       "      <th>21096</th>\n",
       "      <td>/UJQmfkhYQeMvO5G29WHlR7HP6bHGQUzKUecaEJr+Yc=</td>\n",
       "      <td>1</td>\n",
       "      <td>0</td>\n",
       "      <td>NaN</td>\n",
       "      <td>7</td>\n",
       "      <td>2014-06-14</td>\n",
       "      <td>41</td>\n",
       "      <td>30</td>\n",
       "      <td>149</td>\n",
       "      <td>149</td>\n",
       "      <td>1</td>\n",
       "      <td>2017-03-16</td>\n",
       "      <td>2017-03-17</td>\n",
       "      <td>1</td>\n",
       "      <td>0</td>\n",
       "    </tr>\n",
       "    <tr>\n",
       "      <th>21097</th>\n",
       "      <td>/UJQmfkhYQeMvO5G29WHlR7HP6bHGQUzKUecaEJr+Yc=</td>\n",
       "      <td>1</td>\n",
       "      <td>0</td>\n",
       "      <td>NaN</td>\n",
       "      <td>7</td>\n",
       "      <td>2014-06-14</td>\n",
       "      <td>41</td>\n",
       "      <td>30</td>\n",
       "      <td>149</td>\n",
       "      <td>149</td>\n",
       "      <td>1</td>\n",
       "      <td>2017-03-12</td>\n",
       "      <td>2017-04-12</td>\n",
       "      <td>0</td>\n",
       "      <td>0</td>\n",
       "    </tr>\n",
       "    <tr>\n",
       "      <th>21098</th>\n",
       "      <td>005gP05abJe/rU/o/FDkewNAeH6CpgQgoXt9GZlb3rw=</td>\n",
       "      <td>15</td>\n",
       "      <td>25</td>\n",
       "      <td>male</td>\n",
       "      <td>9</td>\n",
       "      <td>2005-08-10</td>\n",
       "      <td>29</td>\n",
       "      <td>30</td>\n",
       "      <td>180</td>\n",
       "      <td>180</td>\n",
       "      <td>0</td>\n",
       "      <td>2017-03-22</td>\n",
       "      <td>2017-04-21</td>\n",
       "      <td>0</td>\n",
       "      <td>0</td>\n",
       "    </tr>\n",
       "    <tr>\n",
       "      <th>21099</th>\n",
       "      <td>l9Z9pxGTeBjkpKpMDwIBeH4+Zya81Zg2x/WX+0nWiEo=</td>\n",
       "      <td>21</td>\n",
       "      <td>33</td>\n",
       "      <td>male</td>\n",
       "      <td>9</td>\n",
       "      <td>2009-03-24</td>\n",
       "      <td>36</td>\n",
       "      <td>30</td>\n",
       "      <td>180</td>\n",
       "      <td>180</td>\n",
       "      <td>1</td>\n",
       "      <td>2017-03-23</td>\n",
       "      <td>2017-04-22</td>\n",
       "      <td>0</td>\n",
       "      <td>0</td>\n",
       "    </tr>\n",
       "    <tr>\n",
       "      <th>21100</th>\n",
       "      <td>segc522miRbgKeHtap2MAEigSC4AY3Ft9PoC/37gp5I=</td>\n",
       "      <td>1</td>\n",
       "      <td>0</td>\n",
       "      <td>NaN</td>\n",
       "      <td>4</td>\n",
       "      <td>2015-10-11</td>\n",
       "      <td>36</td>\n",
       "      <td>30</td>\n",
       "      <td>180</td>\n",
       "      <td>180</td>\n",
       "      <td>0</td>\n",
       "      <td>2017-03-10</td>\n",
       "      <td>2017-04-09</td>\n",
       "      <td>0</td>\n",
       "      <td>0</td>\n",
       "    </tr>\n",
       "  </tbody>\n",
       "</table>\n",
       "<p>18906 rows × 15 columns</p>\n",
       "</div>"
      ],
      "text/plain": [
       "                                               msno  city  bd  gender  \\\n",
       "0      yLkV2gbZ4GLFwqTOXLVHz0VGrMYcgBGgKZ3kj9RiYu8=     4  30    male   \n",
       "1      yLkV2gbZ4GLFwqTOXLVHz0VGrMYcgBGgKZ3kj9RiYu8=     4  30    male   \n",
       "2      oQCja0OLsoCRoltknOOcdk99Eb+GzOU3ck9Rkhk8ixY=     1   0     NaN   \n",
       "3      14UsNUmAV8hPhH20iItmTwdj4WuPdSgl+IFxxYv2UAs=    13  26  female   \n",
       "4      14UsNUmAV8hPhH20iItmTwdj4WuPdSgl+IFxxYv2UAs=    13  26  female   \n",
       "...                                             ...   ...  ..     ...   \n",
       "21096  /UJQmfkhYQeMvO5G29WHlR7HP6bHGQUzKUecaEJr+Yc=     1   0     NaN   \n",
       "21097  /UJQmfkhYQeMvO5G29WHlR7HP6bHGQUzKUecaEJr+Yc=     1   0     NaN   \n",
       "21098  005gP05abJe/rU/o/FDkewNAeH6CpgQgoXt9GZlb3rw=    15  25    male   \n",
       "21099  l9Z9pxGTeBjkpKpMDwIBeH4+Zya81Zg2x/WX+0nWiEo=    21  33    male   \n",
       "21100  segc522miRbgKeHtap2MAEigSC4AY3Ft9PoC/37gp5I=     1   0     NaN   \n",
       "\n",
       "       registered_via registration_init_time  payment_method_id  \\\n",
       "0                   9             2011-09-16                 39   \n",
       "1                   9             2011-09-16                 39   \n",
       "2                   7             2017-01-01                 41   \n",
       "3                   9             2006-09-04                 39   \n",
       "4                   9             2006-09-04                 39   \n",
       "...               ...                    ...                ...   \n",
       "21096               7             2014-06-14                 41   \n",
       "21097               7             2014-06-14                 41   \n",
       "21098               9             2005-08-10                 29   \n",
       "21099               9             2009-03-24                 36   \n",
       "21100               4             2015-10-11                 36   \n",
       "\n",
       "       payment_plan_days  plan_list_price  actual_amount_paid  is_auto_renew  \\\n",
       "0                     30              149                 149              1   \n",
       "1                     30              149                 149              1   \n",
       "2                     30               99                  99              1   \n",
       "3                     30              149                 149              1   \n",
       "4                     30              149                 149              1   \n",
       "...                  ...              ...                 ...            ...   \n",
       "21096                 30              149                 149              1   \n",
       "21097                 30              149                 149              1   \n",
       "21098                 30              180                 180              0   \n",
       "21099                 30              180                 180              1   \n",
       "21100                 30              180                 180              0   \n",
       "\n",
       "      transaction_date membership_expire_date  is_cancel  is_churn  \n",
       "0           2017-03-31             2017-05-17          0         0  \n",
       "1           2017-02-28             2017-04-17          0         0  \n",
       "2           2017-03-31             2017-04-30          0         0  \n",
       "3           2017-02-28             2017-04-29          0         0  \n",
       "4           2017-03-31             2017-05-29          0         0  \n",
       "...                ...                    ...        ...       ...  \n",
       "21096       2017-03-16             2017-03-17          1         0  \n",
       "21097       2017-03-12             2017-04-12          0         0  \n",
       "21098       2017-03-22             2017-04-21          0         0  \n",
       "21099       2017-03-23             2017-04-22          0         0  \n",
       "21100       2017-03-10             2017-04-09          0         0  \n",
       "\n",
       "[18906 rows x 15 columns]"
      ]
     },
     "execution_count": 20,
     "metadata": {},
     "output_type": "execute_result"
    }
   ],
   "source": [
    "members_transaction_df.query('is_churn == 0')"
   ]
  },
  {
   "cell_type": "code",
   "execution_count": 23,
   "metadata": {},
   "outputs": [],
   "source": [
    "members_transaction_df.to_csv('members_transact_df.csv')"
   ]
  },
  {
   "cell_type": "code",
   "execution_count": 32,
   "metadata": {},
   "outputs": [
    {
     "data": {
      "text/plain": [
       "year  payment_plan_days\n",
       "2015  30                    1449\n",
       "      0                       39\n",
       "2016  30                     183\n",
       "      395                      4\n",
       "      120                      3\n",
       "      7                        2\n",
       "      90                       2\n",
       "      410                      2\n",
       "      60                       1\n",
       "      110                      1\n",
       "      195                      1\n",
       "      360                      1\n",
       "      415                      1\n",
       "2017  30                   18952\n",
       "      410                     80\n",
       "      90                      74\n",
       "      195                     66\n",
       "      180                     62\n",
       "      240                     38\n",
       "      60                      34\n",
       "      7                       28\n",
       "      360                     28\n",
       "      100                     18\n",
       "      120                     11\n",
       "      200                      5\n",
       "      400                      4\n",
       "      1                        2\n",
       "      80                       2\n",
       "      365                      2\n",
       "      395                      2\n",
       "      450                      2\n",
       "      14                       1\n",
       "      70                       1\n",
       "Name: payment_plan_days, dtype: int64"
      ]
     },
     "execution_count": 32,
     "metadata": {},
     "output_type": "execute_result"
    }
   ],
   "source": [
    "members_transaction_df['year'] = members_transaction_df['transaction_date'].dt.year\n",
    "members_transaction_df.groupby('year')['payment_plan_days'].value_counts()"
   ]
  },
  {
   "cell_type": "code",
   "execution_count": 33,
   "metadata": {},
   "outputs": [
    {
     "data": {
      "text/plain": [
       "<matplotlib.axes._subplots.AxesSubplot at 0x7f9666678310>"
      ]
     },
     "execution_count": 33,
     "metadata": {},
     "output_type": "execute_result"
    },
    {
     "data": {
      "image/png": "[encoded data removed]",
      "text/plain": [
       "<Figure size 432x288 with 1 Axes>"
      ]
     },
     "metadata": {},
     "output_type": "display_data"
    }
   ],
   "source": [
    "members_transaction_df.payment_plan_days.hist()"
   ]
  },
  {
   "cell_type": "code",
   "execution_count": null,
   "metadata": {},
   "outputs": [],
   "source": [
    "members_transaction_df"
   ]
  },
  {
   "cell_type": "code",
   "execution_count": 86,
   "metadata": {},
   "outputs": [],
   "source": [
    "y_pred = pd.read_csv('y_pred.csv')\n",
    "y_true = pd.read_csv('y_true.csv')"
   ]
  },
  {
   "cell_type": "code",
   "execution_count": 87,
   "metadata": {},
   "outputs": [
    {
     "data": {
      "text/plain": [
       "array([[5573,   70],\n",
       "       [ 227,  461]])"
      ]
     },
     "execution_count": 87,
     "metadata": {},
     "output_type": "execute_result"
    }
   ],
   "source": [
    "from sklearn.metrics import confusion_matrix\n",
    "confusion_matrix(y_true, y_pred)"
   ]
  },
  {
   "cell_type": "code",
   "execution_count": null,
   "metadata": {},
   "outputs": [],
   "source": []
  }
 ],
 "metadata": {
  "kernelspec": {
   "display_name": "Python 3",
   "language": "python",
   "name": "python3"
  },
  "language_info": {
   "codemirror_mode": {
    "name": "ipython",
    "version": 3
   },
   "file_extension": ".py",
   "mimetype": "text/x-python",
   "name": "python",
   "nbconvert_exporter": "python",
   "pygments_lexer": "ipython3",
   "version": "3.8.3"
  }
 },
 "nbformat": 4,
 "nbformat_minor": 4
}
